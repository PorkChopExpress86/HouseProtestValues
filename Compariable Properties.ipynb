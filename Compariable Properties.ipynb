{
 "cells": [
  {
   "cell_type": "code",
   "execution_count": null,
   "metadata": {},
   "outputs": [],
   "source": [
    "import os\n",
    "from datetime import datetime\n",
    "\n",
    "import joblib\n",
    "import numpy as np\n",
    "import pandas as pd\n",
    "import seaborn as sns\n",
    "from itables import init_notebook_mode, show\n",
    "from matplotlib import pyplot as plt\n",
    "from sklearn.ensemble import GradientBoostingRegressor, ExtraTreesRegressor\n",
    "from sklearn.experimental import enable_halving_search_cv\n",
    "from sklearn.model_selection import HalvingRandomSearchCV\n",
    "\n",
    "from scipy.stats import randint, uniform\n",
    "\n",
    "from sklearn.metrics import mean_squared_error, mean_absolute_error, r2_score\n",
    "from sklearn.model_selection import GridSearchCV\n",
    "from sklearn.model_selection import train_test_split\n",
    "\n",
    "from load_to_dataframe import load_housing_data, load_mailing_data, load_feather_file\n",
    "\n",
    "init_notebook_mode(all_interactive=True)\n",
    "%matplotlib inline"
   ]
  },
  {
   "cell_type": "code",
   "execution_count": null,
   "metadata": {},
   "outputs": [],
   "source": [
    "df = load_feather_file()\n",
    "df.head()"
   ]
  },
  {
   "cell_type": "code",
   "execution_count": null,
   "metadata": {},
   "outputs": [],
   "source": []
  },
  {
   "cell_type": "code",
   "execution_count": null,
   "metadata": {},
   "outputs": [],
   "source": [
    "def haversine(lat1, lon1, lat2, lon2):\n",
    "    # Radius of Earth in miles\n",
    "    r = 3958.8\n",
    "    # Convert degrees to radians\n",
    "    phi1, phi2 = np.radians(lat1), np.radians(lat2)\n",
    "    d_phi = np.radians(lat2 - lat1)\n",
    "    d_lambda = np.radians(lon2 - lon1)\n",
    "    # Haversine formula\n",
    "    a = np.sin(d_phi / 2) ** 2 + np.cos(phi1) * np.cos(phi2) * np.sin(d_lambda / 2) ** 2\n",
    "    c = 2 * np.arctan2(np.sqrt(a), np.sqrt(1 - a))\n",
    "    return r * c\n",
    "\n",
    "\n",
    "# Define the single point (latitude, longitude) to calculate the distance from\n",
    "single_point = (29.760100, -95.370100)  # Houston\n",
    "\n",
    "# Add a new column with distances\n",
    "df[\"distance_miles\"] = df.apply(\n",
    "    lambda row: haversine(\n",
    "        single_point[0], single_point[1], row[\"latitude\"], row[\"longitude\"]\n",
    "    ),\n",
    "    axis=1,\n",
    ")"
   ]
  }
 ],
 "metadata": {
  "kernelspec": {
   "display_name": ".venv",
   "language": "python",
   "name": "python3"
  },
  "language_info": {
   "codemirror_mode": {
    "name": "ipython",
    "version": 3
   },
   "file_extension": ".py",
   "mimetype": "text/x-python",
   "name": "python",
   "nbconvert_exporter": "python",
   "pygments_lexer": "ipython3",
   "version": "3.12.3"
  }
 },
 "nbformat": 4,
 "nbformat_minor": 2
}
