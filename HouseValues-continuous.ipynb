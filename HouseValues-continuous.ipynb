{
 "cells": [
  {
   "metadata": {},
   "cell_type": "markdown",
   "source": "# Harris County Home Price Estimations",
   "id": "dfaa3b285ce4154a"
  },
  {
   "metadata": {
    "ExecuteTime": {
     "end_time": "2024-11-20T02:18:26.133009Z",
     "start_time": "2024-11-20T02:18:24.047506Z"
    }
   },
   "cell_type": "code",
   "source": [
    "import sqlite3\n",
    "\n",
    "import pandas as pd\n",
    "from sklearn.ensemble import ExtraTreesRegressor\n",
    "from sklearn.metrics import mean_squared_error\n",
    "from sklearn.model_selection import GridSearchCV\n",
    "from sklearn.model_selection import cross_val_score\n",
    "from sklearn.model_selection import train_test_split\n"
   ],
   "id": "b46db3d349b43b10",
   "outputs": [],
   "execution_count": 1
  },
  {
   "metadata": {
    "ExecuteTime": {
     "end_time": "2024-11-20T02:18:38.556662Z",
     "start_time": "2024-11-20T02:18:26.137016Z"
    }
   },
   "cell_type": "code",
   "source": [
    "con = sqlite3.connect('HouseProtestValues.db')\n",
    "\n",
    "sql_query = '''SELECT  br.acct,\n",
    "                       br.bld_num,\n",
    "                       br.date_erected,\n",
    "                       br.yr_remodel,\n",
    "                       br.im_sq_ft,\n",
    "                       br.gross_ar,\n",
    "                       br.base_ar,\n",
    "                       ra.land_ar,\n",
    "                       br.perimeter,\n",
    "                       br.size_index,\n",
    "                       ra.land_val,\n",
    "                       ra.bld_val,\n",
    "                       ra.assessed_val,\n",
    "                       ra.tot_appr_val,\n",
    "                       ra.tot_mkt_val\n",
    "            FROM building_res as br\n",
    "            LEFT JOIN real_acct as ra ON br.acct = ra.acct\n",
    "            WHERE br.impr_tp = 1001 AND br.property_use_cd = 'A1' AND br.date_erected > 10;'''\n",
    "\n",
    "building_data = pd.read_sql_query(sql_query, con)"
   ],
   "id": "cd1a018ec0b04206",
   "outputs": [],
   "execution_count": 2
  },
  {
   "metadata": {
    "ExecuteTime": {
     "end_time": "2024-11-20T02:18:58.825763Z",
     "start_time": "2024-11-20T02:18:38.642875Z"
    }
   },
   "cell_type": "code",
   "source": [
    "# Story Height Index: STY\n",
    "# Room: Bedroom: RMB\n",
    "# Room: Full Bath: RMF\n",
    "# Room: Half Bath: RMH\n",
    "# Room: Total: RMT\n",
    "fixtures_sql = \"\"\"SELECT *\n",
    "                  FROM \"fixtures\"\n",
    "                  WHERE type IN ('STY', 'RMB','RMF','RMH','RMT')\n",
    "                \"\"\"\n",
    "fixtures = pd.read_sql_query(fixtures_sql, con)\n",
    "fix_pt = fixtures.pivot_table(index=['acct', 'bld_num'], columns='type', values='units', aggfunc='sum')\n",
    "fix_pt = fix_pt.reset_index()\n",
    "fix_pt.fillna(0, inplace=True)"
   ],
   "id": "d1a5b53ae054fb70",
   "outputs": [],
   "execution_count": 3
  },
  {
   "metadata": {
    "ExecuteTime": {
     "end_time": "2024-11-20T02:18:59.439066Z",
     "start_time": "2024-11-20T02:18:58.840837Z"
    }
   },
   "cell_type": "code",
   "source": [
    "all_df = pd.merge(building_data, fix_pt, on=['acct', 'bld_num'], how='left')\n",
    "all_df.dropna(inplace=True)"
   ],
   "id": "e0ec9a5fb0afe065",
   "outputs": [],
   "execution_count": 4
  },
  {
   "metadata": {
    "ExecuteTime": {
     "end_time": "2024-11-20T02:20:39.621930Z",
     "start_time": "2024-11-20T02:20:39.605519Z"
    }
   },
   "cell_type": "code",
   "source": "all_df.tail()",
   "id": "841976844e169060",
   "outputs": [
    {
     "data": {
      "text/plain": [
       "                  acct  bld_num  date_erected  yr_remodel  im_sq_ft  gross_ar  \\\n",
       "1122301  1938003804013        1          2003           0      2117      2553   \n",
       "1122302  1938003804014        1          2003           0      1611      2254   \n",
       "1122303  1953050320690        1          1979           0      2168      2700   \n",
       "1122304  1953080320060        1          1983           0      1723      2259   \n",
       "1122305  1955020050280        1          1979           0      1374      2047   \n",
       "\n",
       "         base_ar  land_ar  perimeter  size_index  land_val   bld_val  \\\n",
       "1122301     2117     5250        318        0.84   35438.0  233603.0   \n",
       "1122302     1611     5250        184        0.89   35438.0  204053.0   \n",
       "1122303     2168     6820        232        0.84   54560.0  201010.0   \n",
       "1122304     1723     7575        216        0.88   55740.0  173156.0   \n",
       "1122305     1374     8851        250        0.94   64580.0  160896.0   \n",
       "\n",
       "         assessed_val  tot_appr_val  tot_mkt_val  RMB  RMF  RMH  RMT  STY  \n",
       "1122301      269041.0      269041.0     269041.0  3.0  2.0  1.0  7.0  2.0  \n",
       "1122302      239491.0      166883.0     239491.0  3.0  2.0  0.0  6.0  1.0  \n",
       "1122303      255570.0      240372.0     255570.0  3.0  2.0  0.0  5.0  1.0  \n",
       "1122304      228896.0      228896.0     228896.0  3.0  2.0  0.0  6.0  1.0  \n",
       "1122305      225476.0      216585.0     225476.0  3.0  2.0  1.0  5.0  2.0  "
      ],
      "text/html": [
       "<div>\n",
       "<style scoped>\n",
       "    .dataframe tbody tr th:only-of-type {\n",
       "        vertical-align: middle;\n",
       "    }\n",
       "\n",
       "    .dataframe tbody tr th {\n",
       "        vertical-align: top;\n",
       "    }\n",
       "\n",
       "    .dataframe thead th {\n",
       "        text-align: right;\n",
       "    }\n",
       "</style>\n",
       "<table border=\"1\" class=\"dataframe\">\n",
       "  <thead>\n",
       "    <tr style=\"text-align: right;\">\n",
       "      <th></th>\n",
       "      <th>acct</th>\n",
       "      <th>bld_num</th>\n",
       "      <th>date_erected</th>\n",
       "      <th>yr_remodel</th>\n",
       "      <th>im_sq_ft</th>\n",
       "      <th>gross_ar</th>\n",
       "      <th>base_ar</th>\n",
       "      <th>land_ar</th>\n",
       "      <th>perimeter</th>\n",
       "      <th>size_index</th>\n",
       "      <th>land_val</th>\n",
       "      <th>bld_val</th>\n",
       "      <th>assessed_val</th>\n",
       "      <th>tot_appr_val</th>\n",
       "      <th>tot_mkt_val</th>\n",
       "      <th>RMB</th>\n",
       "      <th>RMF</th>\n",
       "      <th>RMH</th>\n",
       "      <th>RMT</th>\n",
       "      <th>STY</th>\n",
       "    </tr>\n",
       "  </thead>\n",
       "  <tbody>\n",
       "    <tr>\n",
       "      <th>1122301</th>\n",
       "      <td>1938003804013</td>\n",
       "      <td>1</td>\n",
       "      <td>2003</td>\n",
       "      <td>0</td>\n",
       "      <td>2117</td>\n",
       "      <td>2553</td>\n",
       "      <td>2117</td>\n",
       "      <td>5250</td>\n",
       "      <td>318</td>\n",
       "      <td>0.84</td>\n",
       "      <td>35438.0</td>\n",
       "      <td>233603.0</td>\n",
       "      <td>269041.0</td>\n",
       "      <td>269041.0</td>\n",
       "      <td>269041.0</td>\n",
       "      <td>3.0</td>\n",
       "      <td>2.0</td>\n",
       "      <td>1.0</td>\n",
       "      <td>7.0</td>\n",
       "      <td>2.0</td>\n",
       "    </tr>\n",
       "    <tr>\n",
       "      <th>1122302</th>\n",
       "      <td>1938003804014</td>\n",
       "      <td>1</td>\n",
       "      <td>2003</td>\n",
       "      <td>0</td>\n",
       "      <td>1611</td>\n",
       "      <td>2254</td>\n",
       "      <td>1611</td>\n",
       "      <td>5250</td>\n",
       "      <td>184</td>\n",
       "      <td>0.89</td>\n",
       "      <td>35438.0</td>\n",
       "      <td>204053.0</td>\n",
       "      <td>239491.0</td>\n",
       "      <td>166883.0</td>\n",
       "      <td>239491.0</td>\n",
       "      <td>3.0</td>\n",
       "      <td>2.0</td>\n",
       "      <td>0.0</td>\n",
       "      <td>6.0</td>\n",
       "      <td>1.0</td>\n",
       "    </tr>\n",
       "    <tr>\n",
       "      <th>1122303</th>\n",
       "      <td>1953050320690</td>\n",
       "      <td>1</td>\n",
       "      <td>1979</td>\n",
       "      <td>0</td>\n",
       "      <td>2168</td>\n",
       "      <td>2700</td>\n",
       "      <td>2168</td>\n",
       "      <td>6820</td>\n",
       "      <td>232</td>\n",
       "      <td>0.84</td>\n",
       "      <td>54560.0</td>\n",
       "      <td>201010.0</td>\n",
       "      <td>255570.0</td>\n",
       "      <td>240372.0</td>\n",
       "      <td>255570.0</td>\n",
       "      <td>3.0</td>\n",
       "      <td>2.0</td>\n",
       "      <td>0.0</td>\n",
       "      <td>5.0</td>\n",
       "      <td>1.0</td>\n",
       "    </tr>\n",
       "    <tr>\n",
       "      <th>1122304</th>\n",
       "      <td>1953080320060</td>\n",
       "      <td>1</td>\n",
       "      <td>1983</td>\n",
       "      <td>0</td>\n",
       "      <td>1723</td>\n",
       "      <td>2259</td>\n",
       "      <td>1723</td>\n",
       "      <td>7575</td>\n",
       "      <td>216</td>\n",
       "      <td>0.88</td>\n",
       "      <td>55740.0</td>\n",
       "      <td>173156.0</td>\n",
       "      <td>228896.0</td>\n",
       "      <td>228896.0</td>\n",
       "      <td>228896.0</td>\n",
       "      <td>3.0</td>\n",
       "      <td>2.0</td>\n",
       "      <td>0.0</td>\n",
       "      <td>6.0</td>\n",
       "      <td>1.0</td>\n",
       "    </tr>\n",
       "    <tr>\n",
       "      <th>1122305</th>\n",
       "      <td>1955020050280</td>\n",
       "      <td>1</td>\n",
       "      <td>1979</td>\n",
       "      <td>0</td>\n",
       "      <td>1374</td>\n",
       "      <td>2047</td>\n",
       "      <td>1374</td>\n",
       "      <td>8851</td>\n",
       "      <td>250</td>\n",
       "      <td>0.94</td>\n",
       "      <td>64580.0</td>\n",
       "      <td>160896.0</td>\n",
       "      <td>225476.0</td>\n",
       "      <td>216585.0</td>\n",
       "      <td>225476.0</td>\n",
       "      <td>3.0</td>\n",
       "      <td>2.0</td>\n",
       "      <td>1.0</td>\n",
       "      <td>5.0</td>\n",
       "      <td>2.0</td>\n",
       "    </tr>\n",
       "  </tbody>\n",
       "</table>\n",
       "</div>"
      ]
     },
     "execution_count": 19,
     "metadata": {},
     "output_type": "execute_result"
    }
   ],
   "execution_count": 19
  },
  {
   "metadata": {
    "ExecuteTime": {
     "end_time": "2024-11-20T02:20:58.094480Z",
     "start_time": "2024-11-20T02:20:58.052546Z"
    }
   },
   "cell_type": "code",
   "source": [
    "x = all_df[['date_erected', 'yr_remodel', 'im_sq_ft',\n",
    "     'gross_ar', 'base_ar', 'land_ar', 'perimeter', 'size_index',\n",
    "     'RMB', 'RMF', 'RMH', 'RMT', 'STY']]\n",
    "y = all_df['assessed_val']"
   ],
   "id": "8613777476d40d52",
   "outputs": [],
   "execution_count": 20
  },
  {
   "metadata": {
    "ExecuteTime": {
     "end_time": "2024-11-20T02:20:59.282582Z",
     "start_time": "2024-11-20T02:20:59.278584Z"
    }
   },
   "cell_type": "code",
   "source": "print(f\"All Data{all_df.shape} | x {x.shape} | y {y.shape}\")",
   "id": "c7e48aab4fcd6150",
   "outputs": [
    {
     "name": "stdout",
     "output_type": "stream",
     "text": [
      "All Data(1121460, 20) | x (1121460, 13) | y (1121460,)\n"
     ]
    }
   ],
   "execution_count": 21
  },
  {
   "metadata": {
    "ExecuteTime": {
     "end_time": "2024-11-20T02:21:00.030491Z",
     "start_time": "2024-11-20T02:21:00.026140Z"
    }
   },
   "cell_type": "code",
   "source": [
    "# # initialize the OneHotEncoder\n",
    "# encoder = OneHotEncoder(drop='first')\n",
    "# \n",
    "# #Fit and transform the categorical columns\n",
    "# encoded = encoder.fit_transform(all_df[x])\n",
    "# \n",
    "# df_results = pd.DataFrame.sparse.from_spmatrix(encoded)\n",
    "# df_results.columns = encoder.get_feature_names_out(x_categorical)\n",
    "# df_results.shape"
   ],
   "id": "31b1a4605e9f9aad",
   "outputs": [],
   "execution_count": 22
  },
  {
   "metadata": {
    "ExecuteTime": {
     "end_time": "2024-11-20T02:21:00.718060Z",
     "start_time": "2024-11-20T02:21:00.715030Z"
    }
   },
   "cell_type": "code",
   "source": "# df_results.info()",
   "id": "493bda4b442274f5",
   "outputs": [],
   "execution_count": 23
  },
  {
   "metadata": {
    "ExecuteTime": {
     "end_time": "2024-11-20T02:21:01.083055Z",
     "start_time": "2024-11-20T02:21:01.078053Z"
    }
   },
   "cell_type": "code",
   "source": [
    "# Free up memory\n",
    "building_data = None\n",
    "fix_pt = None\n",
    "fixtures = None\n"
   ],
   "id": "1bb52e2e31131748",
   "outputs": [],
   "execution_count": 24
  },
  {
   "metadata": {
    "ExecuteTime": {
     "end_time": "2024-11-20T02:21:01.434953Z",
     "start_time": "2024-11-20T02:21:01.430467Z"
    }
   },
   "cell_type": "code",
   "source": [
    "## Reset index of both dataframes\n",
    "# all_df.reset_index(drop=True, inplace=True)\n",
    "# df_results.reset_index(drop=True, inplace=True)\n",
    "# \n",
    "# # Merge the encoded data and continuous data together\n",
    "# encoded_features = pd.concat([all_df[x_continuous], df_results], join='inner', axis=1)"
   ],
   "id": "a331ddb9c6153cb3",
   "outputs": [],
   "execution_count": 25
  },
  {
   "metadata": {
    "ExecuteTime": {
     "end_time": "2024-11-20T02:21:01.935657Z",
     "start_time": "2024-11-20T02:21:01.931135Z"
    }
   },
   "cell_type": "code",
   "source": "# encoded_features.shape",
   "id": "98d7cf83b83349c0",
   "outputs": [],
   "execution_count": 26
  },
  {
   "metadata": {
    "ExecuteTime": {
     "end_time": "2024-11-20T02:21:02.519850Z",
     "start_time": "2024-11-20T02:21:02.516438Z"
    }
   },
   "cell_type": "code",
   "source": "# sns.histplot(data=all_df, x=\"assessed_val\")",
   "id": "3e6f3be4d4510cd1",
   "outputs": [],
   "execution_count": 27
  },
  {
   "metadata": {
    "ExecuteTime": {
     "end_time": "2024-11-20T02:21:04.057025Z",
     "start_time": "2024-11-20T02:21:04.052990Z"
    }
   },
   "cell_type": "code",
   "source": "# sns.histplot(data=all_df, x=\"assessed_val\", log_scale=True)",
   "id": "d986d7b18d308750",
   "outputs": [],
   "execution_count": 28
  },
  {
   "metadata": {
    "ExecuteTime": {
     "end_time": "2024-11-20T02:21:04.356774Z",
     "start_time": "2024-11-20T02:21:04.353665Z"
    }
   },
   "cell_type": "code",
   "source": "# sns.pairplot(data=all_df, vars=['assessed_val', 'date_erected', 'im_sq_ft', 'school_dist', 'Neighborhood_Code'])",
   "id": "bc5de848c006de1b",
   "outputs": [],
   "execution_count": 29
  },
  {
   "metadata": {
    "ExecuteTime": {
     "end_time": "2024-11-20T02:21:04.685796Z",
     "start_time": "2024-11-20T02:21:04.681976Z"
    }
   },
   "cell_type": "code",
   "source": "# sns.pairplot(data=all_df, vars=['assessed_val', 'land_ar', 'RMB', 'RMF', 'RMH', 'STY'])",
   "id": "f76a0d77568f8554",
   "outputs": [],
   "execution_count": 30
  },
  {
   "metadata": {
    "ExecuteTime": {
     "end_time": "2024-11-20T02:21:05.313522Z",
     "start_time": "2024-11-20T02:21:05.310525Z"
    }
   },
   "cell_type": "code",
   "source": "",
   "id": "f18853fd94ef1625",
   "outputs": [],
   "execution_count": null
  },
  {
   "metadata": {
    "ExecuteTime": {
     "end_time": "2024-11-20T02:21:06.273412Z",
     "start_time": "2024-11-20T02:21:06.009480Z"
    }
   },
   "cell_type": "code",
   "source": "x_train, x_test, y_train, y_test = train_test_split(x, y, test_size=0.2, random_state=42)",
   "id": "8cd1b1deae616863",
   "outputs": [],
   "execution_count": 31
  },
  {
   "metadata": {
    "ExecuteTime": {
     "end_time": "2024-11-20T02:21:07.599555Z",
     "start_time": "2024-11-20T02:21:07.594591Z"
    }
   },
   "cell_type": "code",
   "source": "model = ExtraTreesRegressor(random_state=42)",
   "id": "63f3e82b1b9cef4b",
   "outputs": [],
   "execution_count": 32
  },
  {
   "metadata": {
    "jupyter": {
     "is_executing": true
    },
    "ExecuteTime": {
     "start_time": "2024-11-20T02:21:08.669474Z"
    }
   },
   "cell_type": "code",
   "source": "model_fit = model.fit(x_train, y_train)",
   "id": "79c98ae8b1e0f54c",
   "outputs": [],
   "execution_count": null
  },
  {
   "metadata": {
    "ExecuteTime": {
     "start_time": "2024-11-20T01:36:47.301682Z"
    }
   },
   "cell_type": "code",
   "source": "cross_val_score(model_fit, x_train, y_train, scoring='accuracy', cv=5, n_jobs=-1).mean()",
   "id": "4488ad5c2a098fe8",
   "outputs": [],
   "execution_count": null
  },
  {
   "metadata": {
    "ExecuteTime": {
     "end_time": "2024-11-20T01:33:05.342322Z",
     "start_time": "2024-11-20T01:32:16.501480Z"
    }
   },
   "cell_type": "code",
   "source": [
    "y_pred = model.predict(x_test)\n",
    "print(f\"Mean Squared Error: {mean_squared_error(y_test, y_pred)}\")"
   ],
   "id": "83545ed262d67d8c",
   "outputs": [
    {
     "name": "stderr",
     "output_type": "stream",
     "text": [
      "C:\\Users\\Blake\\miniconda3\\envs\\HouseProtestValues\\Lib\\site-packages\\sklearn\\utils\\validation.py:877: UserWarning: pandas.DataFrame with sparse columns found.It will be converted to a dense numpy array.\n",
      "  warnings.warn(\n"
     ]
    },
    {
     "name": "stdout",
     "output_type": "stream",
     "text": [
      "Mean Squared Error: 31645615157.76855\n"
     ]
    }
   ],
   "execution_count": 21
  },
  {
   "metadata": {
    "ExecuteTime": {
     "end_time": "2024-11-20T02:18:16.919911Z",
     "start_time": "2024-11-20T02:18:16.905953Z"
    }
   },
   "cell_type": "code",
   "source": [
    "param_grid = {\n",
    "    'n_estimators': [100, 250, 500],\n",
    "    'min_samples_leaf': [5, 15, 25],\n",
    "    'max_features': [10, 20, 30],\n",
    "    'criterion': ['squared_error', 'absolute_error', 'friedman_mse', 'poisson']\n",
    "}"
   ],
   "id": "372806e1ddda94d5",
   "outputs": [],
   "execution_count": 1
  },
  {
   "metadata": {
    "ExecuteTime": {
     "end_time": "2024-11-20T01:33:05.582434Z",
     "start_time": "2024-11-20T01:33:05.579217Z"
    }
   },
   "cell_type": "code",
   "source": "etc2 = GridSearchCV(model_fit, param_grid, cv=3, n_jobs=-1)",
   "id": "f4a73c266f8f8b05",
   "outputs": [],
   "execution_count": null
  },
  {
   "metadata": {
    "ExecuteTime": {
     "end_time": "2024-11-20T01:33:05.685037Z",
     "start_time": "2024-11-20T01:33:05.681971Z"
    }
   },
   "cell_type": "code",
   "source": "etc2.fit(x_train, y_train)",
   "id": "4bcb64c5198da257",
   "outputs": [],
   "execution_count": null
  },
  {
   "metadata": {},
   "cell_type": "code",
   "outputs": [],
   "execution_count": null,
   "source": "etc2.best_params_",
   "id": "66ea07fcb01336fb"
  },
  {
   "metadata": {},
   "cell_type": "code",
   "outputs": [],
   "execution_count": null,
   "source": "etc2.best_score_",
   "id": "c35939d6dc020571"
  },
  {
   "metadata": {},
   "cell_type": "code",
   "outputs": [],
   "execution_count": null,
   "source": "",
   "id": "9c5a24b3d994fd1"
  }
 ],
 "metadata": {
  "kernelspec": {
   "display_name": "Python 3",
   "language": "python",
   "name": "python3"
  },
  "language_info": {
   "codemirror_mode": {
    "name": "ipython",
    "version": 2
   },
   "file_extension": ".py",
   "mimetype": "text/x-python",
   "name": "python",
   "nbconvert_exporter": "python",
   "pygments_lexer": "ipython2",
   "version": "2.7.6"
  }
 },
 "nbformat": 4,
 "nbformat_minor": 5
}
