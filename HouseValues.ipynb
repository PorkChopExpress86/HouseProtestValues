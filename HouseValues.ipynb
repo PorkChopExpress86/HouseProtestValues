{
 "cells": [
  {
   "metadata": {},
   "cell_type": "markdown",
   "source": "# Harris County Home Price Estimations",
   "id": "dfaa3b285ce4154a"
  },
  {
   "metadata": {},
   "cell_type": "code",
   "source": [
    "import sqlite3\n",
    "\n",
    "import pandas as pd\n",
    "from sklearn.ensemble import ExtraTreesRegressor\n",
    "from sklearn.metrics import mean_squared_error\n",
    "from sklearn.model_selection import cross_val_score\n",
    "from sklearn.model_selection import train_test_split\n",
    "from sklearn.preprocessing import OneHotEncoder\n",
    "from sklearn.model_selection import GridSearchCV\n"
   ],
   "id": "b46db3d349b43b10",
   "outputs": [],
   "execution_count": null
  },
  {
   "metadata": {},
   "cell_type": "code",
   "source": [
    "con = sqlite3.connect('HouseProtestValues.db')\n",
    "\n",
    "sql_query = '''SELECT  br.acct,\n",
    "                       br.bld_num,\n",
    "                       br.dscr,\n",
    "                       br.date_erected,\n",
    "                       br.yr_remodel,\n",
    "                       br.im_sq_ft,\n",
    "                       br.gross_ar,\n",
    "                       br.base_ar,\n",
    "                       ra.land_ar,\n",
    "                       br.perimeter,\n",
    "                       br.size_index,\n",
    "                       ra.school_dist,\n",
    "                       ra.land_val,\n",
    "                       ra.bld_val,\n",
    "                       ra.assessed_val,\n",
    "                       ra.tot_appr_val,\n",
    "                       ra.tot_mkt_val\n",
    "            FROM building_res as br\n",
    "            LEFT JOIN real_acct as ra ON br.acct = ra.acct\n",
    "            WHERE br.impr_tp = 1001 AND br.property_use_cd = 'A1' AND br.date_erected > 10;'''\n",
    "\n",
    "building_data = pd.read_sql_query(sql_query, con)\n",
    "\n",
    "building_data[['acct', 'dscr', 'school_dist']] = building_data[\n",
    "    ['acct', 'dscr', 'school_dist']].astype('category')"
   ],
   "id": "cd1a018ec0b04206",
   "outputs": [],
   "execution_count": null
  },
  {
   "metadata": {},
   "cell_type": "code",
   "source": [
    "# Story Height Index: STY\n",
    "# Room: Bedroom: RMB\n",
    "# Room: Full Bath: RMF\n",
    "# Room: Half Bath: RMH\n",
    "# Room: Total: RMT\n",
    "fixtures_sql = \"\"\"SELECT *\n",
    "                  FROM \"fixtures\"\n",
    "                  WHERE type IN ('STY', 'RMB','RMF','RMH','RMT')\n",
    "                \"\"\"\n",
    "fixtures = pd.read_sql_query(fixtures_sql, con)\n",
    "fix_pt = fixtures.pivot_table(index=['acct', 'bld_num'], columns='type', values='units', aggfunc='sum')\n",
    "fix_pt = fix_pt.reset_index()\n",
    "fix_pt.fillna(0, inplace=True)"
   ],
   "id": "d1a5b53ae054fb70",
   "outputs": [],
   "execution_count": null
  },
  {
   "metadata": {},
   "cell_type": "code",
   "source": [
    "all_df = pd.merge(building_data, fix_pt, on=['acct', 'bld_num'], how='left')\n",
    "all_df.dropna(inplace=True)"
   ],
   "id": "e0ec9a5fb0afe065",
   "outputs": [],
   "execution_count": null
  },
  {
   "metadata": {},
   "cell_type": "code",
   "source": "print(f\"All Data{all_df.shape}\")",
   "id": "841976844e169060",
   "outputs": [],
   "execution_count": null
  },
  {
   "metadata": {},
   "cell_type": "code",
   "source": [
    "x_categorical = ['dscr', 'school_dist']\n",
    "x_continuous = ['date_erected', 'yr_remodel', 'im_sq_ft',\n",
    "                'gross_ar', 'base_ar', 'land_ar', 'perimeter', 'size_index',\n",
    "                'RMB', 'RMF', 'RMH', 'RMT', 'STY']\n",
    "y = all_df['assessed_val']\n",
    "print(f\"x_categorical{all_df[x_categorical].shape} | x_continuous {all_df[x_continuous].shape} | y {y.shape}\")"
   ],
   "id": "8613777476d40d52",
   "outputs": [],
   "execution_count": null
  },
  {
   "metadata": {},
   "cell_type": "code",
   "source": "all_df[x_categorical].head()",
   "id": "c7e48aab4fcd6150",
   "outputs": [],
   "execution_count": null
  },
  {
   "metadata": {},
   "cell_type": "code",
   "source": [
    "# initialize the OneHotEncoder\n",
    "encoder = OneHotEncoder(drop='first')\n",
    "\n",
    "#Fit and transform the categorical columns\n",
    "encoded = encoder.fit_transform(all_df[x_categorical])\n",
    "\n",
    "df_results = pd.DataFrame.sparse.from_spmatrix(encoded)\n",
    "df_results.columns = encoder.get_feature_names_out(x_categorical)\n",
    "df_results.shape"
   ],
   "id": "31b1a4605e9f9aad",
   "outputs": [],
   "execution_count": null
  },
  {
   "metadata": {},
   "cell_type": "code",
   "source": "df_results.info()",
   "id": "493bda4b442274f5",
   "outputs": [],
   "execution_count": null
  },
  {
   "metadata": {},
   "cell_type": "code",
   "source": [
    "# Free up memory\n",
    "building_data = None\n",
    "fix_pt = None\n",
    "fixtures = None\n"
   ],
   "id": "1bb52e2e31131748",
   "outputs": [],
   "execution_count": null
  },
  {
   "metadata": {},
   "cell_type": "code",
   "source": [
    "# Reset index of both dataframes\n",
    "all_df.reset_index(drop=True, inplace=True)\n",
    "df_results.reset_index(drop=True, inplace=True)\n",
    "\n",
    "# Merge the encoded data and continuous data together\n",
    "encoded_features = pd.concat([all_df[x_continuous], df_results], join='inner', axis=1)"
   ],
   "id": "a331ddb9c6153cb3",
   "outputs": [],
   "execution_count": null
  },
  {
   "metadata": {},
   "cell_type": "code",
   "source": "encoded_features.shape",
   "id": "98d7cf83b83349c0",
   "outputs": [],
   "execution_count": null
  },
  {
   "metadata": {},
   "cell_type": "code",
   "source": "# sns.histplot(data=all_df, x=\"assessed_val\")",
   "id": "3e6f3be4d4510cd1",
   "outputs": [],
   "execution_count": null
  },
  {
   "metadata": {},
   "cell_type": "code",
   "source": "# sns.histplot(data=all_df, x=\"assessed_val\", log_scale=True)",
   "id": "d986d7b18d308750",
   "outputs": [],
   "execution_count": null
  },
  {
   "metadata": {},
   "cell_type": "code",
   "source": "# sns.pairplot(data=all_df, vars=['assessed_val', 'date_erected', 'im_sq_ft', 'school_dist', 'Neighborhood_Code'])",
   "id": "bc5de848c006de1b",
   "outputs": [],
   "execution_count": null
  },
  {
   "metadata": {},
   "cell_type": "code",
   "source": "# sns.pairplot(data=all_df, vars=['assessed_val', 'land_ar', 'RMB', 'RMF', 'RMH', 'STY'])",
   "id": "f76a0d77568f8554",
   "outputs": [],
   "execution_count": null
  },
  {
   "metadata": {},
   "cell_type": "code",
   "source": "print(f\"Encoded features{encoded_features.shape} | All Data{all_df.shape} | Results {df_results.shape} | y {y.shape} \")",
   "id": "f18853fd94ef1625",
   "outputs": [],
   "execution_count": null
  },
  {
   "metadata": {},
   "cell_type": "code",
   "source": "x_train, x_test, y_train, y_test = train_test_split(encoded_features, y, test_size=0.4, random_state=42)",
   "id": "8cd1b1deae616863",
   "outputs": [],
   "execution_count": null
  },
  {
   "metadata": {},
   "cell_type": "code",
   "source": "model = ExtraTreesRegressor(n_estimators=100, random_state=42)",
   "id": "63f3e82b1b9cef4b",
   "outputs": [],
   "execution_count": null
  },
  {
   "metadata": {},
   "cell_type": "code",
   "source": "model_fit = model.fit(x_train, y_train)",
   "id": "79c98ae8b1e0f54c",
   "outputs": [],
   "execution_count": null
  },
  {
   "metadata": {},
   "cell_type": "code",
   "source": "cross_val_score(model_fit, x_train, y_train, scoring='accuracy', cv=5, n_jobs=-1).mean()",
   "id": "4488ad5c2a098fe8",
   "outputs": [],
   "execution_count": null
  },
  {
   "metadata": {},
   "cell_type": "code",
   "source": [
    "y_pred = model.predict(x_test)\n",
    "print(f\"Mean Squared Error: {mean_squared_error(y_test, y_pred)}\")"
   ],
   "id": "83545ed262d67d8c",
   "outputs": [],
   "execution_count": null
  },
  {
   "metadata": {},
   "cell_type": "code",
   "source": [
    "param_grid = {\n",
    "    'n_estimators': [100, 250, 500],\n",
    "    'min_samples_leaf': [5, 15, 25],\n",
    "    'max_features': [10, 20, 30],\n",
    "    'criterion': ['gini', 'entropy']\n",
    "}"
   ],
   "id": "372806e1ddda94d5",
   "outputs": [],
   "execution_count": null
  },
  {
   "metadata": {},
   "cell_type": "code",
   "source": "etc2 = GridSearchCV(model_fit, param_grid,cv=3, n_jobs=-1)",
   "id": "f4a73c266f8f8b05",
   "outputs": [],
   "execution_count": null
  },
  {
   "metadata": {},
   "cell_type": "code",
   "source": "etc2.fit(x_train,y_train)",
   "id": "4bcb64c5198da257",
   "outputs": [],
   "execution_count": null
  },
  {
   "metadata": {},
   "cell_type": "code",
   "source": "etc2.best_params_",
   "id": "66ea07fcb01336fb",
   "outputs": [],
   "execution_count": null
  },
  {
   "metadata": {},
   "cell_type": "code",
   "source": "etc2.best_score_",
   "id": "c35939d6dc020571",
   "outputs": [],
   "execution_count": null
  }
 ],
 "metadata": {
  "kernelspec": {
   "display_name": "Python 3",
   "language": "python",
   "name": "python3"
  },
  "language_info": {
   "codemirror_mode": {
    "name": "ipython",
    "version": 2
   },
   "file_extension": ".py",
   "mimetype": "text/x-python",
   "name": "python",
   "nbconvert_exporter": "python",
   "pygments_lexer": "ipython2",
   "version": "2.7.6"
  }
 },
 "nbformat": 4,
 "nbformat_minor": 5
}
