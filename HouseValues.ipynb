{
 "cells": [
  {
   "metadata": {},
   "cell_type": "markdown",
   "source": "# Harris County Home Price Estimations",
   "id": "dfaa3b285ce4154a"
  },
  {
   "metadata": {
    "ExecuteTime": {
     "end_time": "2024-11-20T01:35:50.615204Z",
     "start_time": "2024-11-20T01:35:50.597798Z"
    }
   },
   "cell_type": "code",
   "source": [
    "import sqlite3\n",
    "\n",
    "import pandas as pd\n",
    "from sklearn.ensemble import ExtraTreesRegressor\n",
    "from sklearn.metrics import mean_squared_error\n",
    "from sklearn.model_selection import cross_val_score\n",
    "from sklearn.model_selection import train_test_split\n",
    "from sklearn.preprocessing import OneHotEncoder\n",
    "from sklearn.model_selection import GridSearchCV\n"
   ],
   "id": "b46db3d349b43b10",
   "outputs": [],
   "execution_count": 22
  },
  {
   "metadata": {
    "ExecuteTime": {
     "end_time": "2024-11-20T01:15:50.032260Z",
     "start_time": "2024-11-20T01:15:13.462295Z"
    }
   },
   "cell_type": "code",
   "source": [
    "con = sqlite3.connect('HouseProtestValues.db')\n",
    "\n",
    "sql_query = '''SELECT  br.acct,\n",
    "                       br.bld_num,\n",
    "                       br.dscr,\n",
    "                       br.date_erected,\n",
    "                       br.yr_remodel,\n",
    "                       br.im_sq_ft,\n",
    "                       br.gross_ar,\n",
    "                       br.base_ar,\n",
    "                       ra.land_ar,\n",
    "                       br.perimeter,\n",
    "                       br.size_index,\n",
    "                       ra.school_dist,\n",
    "                       ra.land_val,\n",
    "                       ra.bld_val,\n",
    "                       ra.assessed_val,\n",
    "                       ra.tot_appr_val,\n",
    "                       ra.tot_mkt_val\n",
    "            FROM building_res as br\n",
    "            LEFT JOIN real_acct as ra ON br.acct = ra.acct\n",
    "            WHERE br.impr_tp = 1001 AND br.property_use_cd = 'A1' AND br.date_erected > 10;'''\n",
    "\n",
    "building_data = pd.read_sql_query(sql_query, con)\n",
    "\n",
    "building_data[['acct', 'dscr', 'school_dist']] = building_data[\n",
    "    ['acct', 'dscr', 'school_dist']].astype('category')"
   ],
   "id": "cd1a018ec0b04206",
   "outputs": [],
   "execution_count": 2
  },
  {
   "metadata": {
    "ExecuteTime": {
     "end_time": "2024-11-20T01:16:22.105934Z",
     "start_time": "2024-11-20T01:15:50.395221Z"
    }
   },
   "cell_type": "code",
   "source": [
    "# Story Height Index: STY\n",
    "# Room: Bedroom: RMB\n",
    "# Room: Full Bath: RMF\n",
    "# Room: Half Bath: RMH\n",
    "# Room: Total: RMT\n",
    "fixtures_sql = \"\"\"SELECT *\n",
    "                  FROM \"fixtures\"\n",
    "                  WHERE type IN ('STY', 'RMB','RMF','RMH','RMT')\n",
    "                \"\"\"\n",
    "fixtures = pd.read_sql_query(fixtures_sql, con)\n",
    "fix_pt = fixtures.pivot_table(index=['acct', 'bld_num'], columns='type', values='units', aggfunc='sum')\n",
    "fix_pt = fix_pt.reset_index()\n",
    "fix_pt.fillna(0, inplace=True)"
   ],
   "id": "d1a5b53ae054fb70",
   "outputs": [],
   "execution_count": 3
  },
  {
   "metadata": {
    "ExecuteTime": {
     "end_time": "2024-11-20T01:16:23.062775Z",
     "start_time": "2024-11-20T01:16:22.125938Z"
    }
   },
   "cell_type": "code",
   "source": [
    "all_df = pd.merge(building_data, fix_pt, on=['acct', 'bld_num'], how='left')\n",
    "all_df.dropna(inplace=True)"
   ],
   "id": "e0ec9a5fb0afe065",
   "outputs": [],
   "execution_count": 4
  },
  {
   "metadata": {
    "ExecuteTime": {
     "end_time": "2024-11-20T01:16:23.091318Z",
     "start_time": "2024-11-20T01:16:23.085936Z"
    }
   },
   "cell_type": "code",
   "source": "print(f\"All Data{all_df.shape}\")",
   "id": "841976844e169060",
   "outputs": [
    {
     "name": "stdout",
     "output_type": "stream",
     "text": [
      "All Data(1121460, 22)\n"
     ]
    }
   ],
   "execution_count": 5
  },
  {
   "metadata": {
    "ExecuteTime": {
     "end_time": "2024-11-20T01:16:23.264383Z",
     "start_time": "2024-11-20T01:16:23.213450Z"
    }
   },
   "cell_type": "code",
   "source": [
    "x_categorical = ['dscr', 'school_dist']\n",
    "x_continuous = ['date_erected', 'yr_remodel', 'im_sq_ft',\n",
    "                'gross_ar', 'base_ar', 'land_ar', 'perimeter', 'size_index',\n",
    "                'RMB', 'RMF', 'RMH', 'RMT', 'STY']\n",
    "y = all_df['assessed_val']\n",
    "print(f\"x_categorical{all_df[x_categorical].shape} | x_continuous {all_df[x_continuous].shape} | y {y.shape}\")"
   ],
   "id": "8613777476d40d52",
   "outputs": [
    {
     "name": "stdout",
     "output_type": "stream",
     "text": [
      "x_categorical(1121460, 2) | x_contimuous (1121460, 13) | y (1121460,)\n"
     ]
    }
   ],
   "execution_count": 6
  },
  {
   "metadata": {
    "ExecuteTime": {
     "end_time": "2024-11-20T01:16:23.393609Z",
     "start_time": "2024-11-20T01:16:23.376433Z"
    }
   },
   "cell_type": "code",
   "source": "all_df[x_categorical].head()",
   "id": "c7e48aab4fcd6150",
   "outputs": [
    {
     "data": {
      "text/plain": [
       "      dscr school_dist\n",
       "0     Good       01   \n",
       "1     Good       01   \n",
       "2      Low       01   \n",
       "3     Good       01   \n",
       "4  Average       01   "
      ],
      "text/html": [
       "<div>\n",
       "<style scoped>\n",
       "    .dataframe tbody tr th:only-of-type {\n",
       "        vertical-align: middle;\n",
       "    }\n",
       "\n",
       "    .dataframe tbody tr th {\n",
       "        vertical-align: top;\n",
       "    }\n",
       "\n",
       "    .dataframe thead th {\n",
       "        text-align: right;\n",
       "    }\n",
       "</style>\n",
       "<table border=\"1\" class=\"dataframe\">\n",
       "  <thead>\n",
       "    <tr style=\"text-align: right;\">\n",
       "      <th></th>\n",
       "      <th>dscr</th>\n",
       "      <th>school_dist</th>\n",
       "    </tr>\n",
       "  </thead>\n",
       "  <tbody>\n",
       "    <tr>\n",
       "      <th>0</th>\n",
       "      <td>Good</td>\n",
       "      <td>01</td>\n",
       "    </tr>\n",
       "    <tr>\n",
       "      <th>1</th>\n",
       "      <td>Good</td>\n",
       "      <td>01</td>\n",
       "    </tr>\n",
       "    <tr>\n",
       "      <th>2</th>\n",
       "      <td>Low</td>\n",
       "      <td>01</td>\n",
       "    </tr>\n",
       "    <tr>\n",
       "      <th>3</th>\n",
       "      <td>Good</td>\n",
       "      <td>01</td>\n",
       "    </tr>\n",
       "    <tr>\n",
       "      <th>4</th>\n",
       "      <td>Average</td>\n",
       "      <td>01</td>\n",
       "    </tr>\n",
       "  </tbody>\n",
       "</table>\n",
       "</div>"
      ]
     },
     "execution_count": 7,
     "metadata": {},
     "output_type": "execute_result"
    }
   ],
   "execution_count": 7
  },
  {
   "metadata": {
    "ExecuteTime": {
     "end_time": "2024-11-20T01:16:24.329785Z",
     "start_time": "2024-11-20T01:16:23.518686Z"
    }
   },
   "cell_type": "code",
   "source": [
    "# initialize the OneHotEncoder\n",
    "encoder = OneHotEncoder(drop='first')\n",
    "\n",
    "#Fit and transform the categorical columns\n",
    "encoded = encoder.fit_transform(all_df[x_categorical])\n",
    "\n",
    "df_results = pd.DataFrame.sparse.from_spmatrix(encoded)\n",
    "df_results.columns = encoder.get_feature_names_out(x_categorical)\n",
    "df_results.shape"
   ],
   "id": "31b1a4605e9f9aad",
   "outputs": [
    {
     "data": {
      "text/plain": [
       "(1121460, 30)"
      ]
     },
     "execution_count": 8,
     "metadata": {},
     "output_type": "execute_result"
    }
   ],
   "execution_count": 8
  },
  {
   "metadata": {
    "ExecuteTime": {
     "end_time": "2024-11-20T01:16:24.496914Z",
     "start_time": "2024-11-20T01:16:24.389383Z"
    }
   },
   "cell_type": "code",
   "source": "df_results.info()",
   "id": "493bda4b442274f5",
   "outputs": [
    {
     "name": "stdout",
     "output_type": "stream",
     "text": [
      "<class 'pandas.core.frame.DataFrame'>\n",
      "RangeIndex: 1121460 entries, 0 to 1121459\n",
      "Data columns (total 30 columns):\n",
      " #   Column             Non-Null Count  Dtype             \n",
      "---  ------             --------------  -----             \n",
      " 0   dscr_Excellent     1 non-null      Sparse[float64, 0]\n",
      " 1   dscr_Good          1 non-null      Sparse[float64, 0]\n",
      " 2   dscr_Low           1 non-null      Sparse[float64, 0]\n",
      " 3   dscr_Superior      1 non-null      Sparse[float64, 0]\n",
      " 4   dscr_Very Low      1 non-null      Sparse[float64, 0]\n",
      " 5   school_dist_01     1 non-null      Sparse[float64, 0]\n",
      " 6   school_dist_02     1 non-null      Sparse[float64, 0]\n",
      " 7   school_dist_03     1 non-null      Sparse[float64, 0]\n",
      " 8   school_dist_04     1 non-null      Sparse[float64, 0]\n",
      " 9   school_dist_05     1 non-null      Sparse[float64, 0]\n",
      " 10  school_dist_06     1 non-null      Sparse[float64, 0]\n",
      " 11  school_dist_07     1 non-null      Sparse[float64, 0]\n",
      " 12  school_dist_08     1 non-null      Sparse[float64, 0]\n",
      " 13  school_dist_09     1 non-null      Sparse[float64, 0]\n",
      " 14  school_dist_15     1 non-null      Sparse[float64, 0]\n",
      " 15  school_dist_16     1 non-null      Sparse[float64, 0]\n",
      " 16  school_dist_17     1 non-null      Sparse[float64, 0]\n",
      " 17  school_dist_18     1 non-null      Sparse[float64, 0]\n",
      " 18  school_dist_19     1 non-null      Sparse[float64, 0]\n",
      " 19  school_dist_20     1 non-null      Sparse[float64, 0]\n",
      " 20  school_dist_21     1 non-null      Sparse[float64, 0]\n",
      " 21  school_dist_23     1 non-null      Sparse[float64, 0]\n",
      " 22  school_dist_24     1 non-null      Sparse[float64, 0]\n",
      " 23  school_dist_25     1 non-null      Sparse[float64, 0]\n",
      " 24  school_dist_26     1 non-null      Sparse[float64, 0]\n",
      " 25  school_dist_27     1 non-null      Sparse[float64, 0]\n",
      " 26  school_dist_28     1 non-null      Sparse[float64, 0]\n",
      " 27  school_dist_29     1 non-null      Sparse[float64, 0]\n",
      " 28  school_dist_30     1 non-null      Sparse[float64, 0]\n",
      " 29  school_dist_31     1 non-null      Sparse[float64, 0]\n",
      "dtypes: Sparse[float64, 0](30)\n",
      "memory usage: 18.0 MB\n"
     ]
    }
   ],
   "execution_count": 9
  },
  {
   "metadata": {
    "ExecuteTime": {
     "end_time": "2024-11-20T01:16:24.942457Z",
     "start_time": "2024-11-20T01:16:24.558985Z"
    }
   },
   "cell_type": "code",
   "source": [
    "# Free up memory\n",
    "building_data = None\n",
    "fix_pt = None\n",
    "fixtures = None\n"
   ],
   "id": "1bb52e2e31131748",
   "outputs": [],
   "execution_count": 10
  },
  {
   "metadata": {
    "ExecuteTime": {
     "end_time": "2024-11-20T01:16:25.062765Z",
     "start_time": "2024-11-20T01:16:24.947469Z"
    }
   },
   "cell_type": "code",
   "source": [
    "# Reset index of both dataframes\n",
    "all_df.reset_index(drop=True, inplace=True)\n",
    "df_results.reset_index(drop=True, inplace=True)\n",
    "\n",
    "# Merge the encoded data and continuous data together\n",
    "encoded_features = pd.concat([all_df[x_continuous], df_results], join='inner', axis=1)"
   ],
   "id": "a331ddb9c6153cb3",
   "outputs": [],
   "execution_count": 11
  },
  {
   "metadata": {
    "ExecuteTime": {
     "end_time": "2024-11-20T01:16:25.107165Z",
     "start_time": "2024-11-20T01:16:25.100146Z"
    }
   },
   "cell_type": "code",
   "source": "encoded_features.shape",
   "id": "98d7cf83b83349c0",
   "outputs": [
    {
     "data": {
      "text/plain": [
       "(1121460, 43)"
      ]
     },
     "execution_count": 12,
     "metadata": {},
     "output_type": "execute_result"
    }
   ],
   "execution_count": 12
  },
  {
   "metadata": {
    "ExecuteTime": {
     "end_time": "2024-11-20T01:16:25.153439Z",
     "start_time": "2024-11-20T01:16:25.147619Z"
    }
   },
   "cell_type": "code",
   "source": "# sns.histplot(data=all_df, x=\"assessed_val\")",
   "id": "3e6f3be4d4510cd1",
   "outputs": [],
   "execution_count": 13
  },
  {
   "metadata": {
    "ExecuteTime": {
     "end_time": "2024-11-20T01:16:25.201075Z",
     "start_time": "2024-11-20T01:16:25.196136Z"
    }
   },
   "cell_type": "code",
   "source": "# sns.histplot(data=all_df, x=\"assessed_val\", log_scale=True)",
   "id": "d986d7b18d308750",
   "outputs": [],
   "execution_count": 14
  },
  {
   "metadata": {
    "ExecuteTime": {
     "end_time": "2024-11-20T01:16:25.246416Z",
     "start_time": "2024-11-20T01:16:25.241413Z"
    }
   },
   "cell_type": "code",
   "source": "# sns.pairplot(data=all_df, vars=['assessed_val', 'date_erected', 'im_sq_ft', 'school_dist', 'Neighborhood_Code'])",
   "id": "bc5de848c006de1b",
   "outputs": [],
   "execution_count": 15
  },
  {
   "metadata": {
    "ExecuteTime": {
     "end_time": "2024-11-20T01:16:25.290252Z",
     "start_time": "2024-11-20T01:16:25.285979Z"
    }
   },
   "cell_type": "code",
   "source": "# sns.pairplot(data=all_df, vars=['assessed_val', 'land_ar', 'RMB', 'RMF', 'RMH', 'STY'])",
   "id": "f76a0d77568f8554",
   "outputs": [],
   "execution_count": 16
  },
  {
   "metadata": {
    "ExecuteTime": {
     "end_time": "2024-11-20T01:16:25.333949Z",
     "start_time": "2024-11-20T01:16:25.328648Z"
    }
   },
   "cell_type": "code",
   "source": "print(f\"Encoded features{encoded_features.shape} | All Data{all_df.shape} | Results {df_results.shape} | y {y.shape} \")",
   "id": "f18853fd94ef1625",
   "outputs": [
    {
     "name": "stdout",
     "output_type": "stream",
     "text": [
      "Encoded features(1121460, 43) | All Data(1121460, 22) | Results (1121460, 30) | y (1121460,) \n"
     ]
    }
   ],
   "execution_count": 17
  },
  {
   "metadata": {
    "ExecuteTime": {
     "end_time": "2024-11-20T01:16:29.367089Z",
     "start_time": "2024-11-20T01:16:25.374694Z"
    }
   },
   "cell_type": "code",
   "source": "x_train, x_test, y_train, y_test = train_test_split(encoded_features, y, test_size=0.4, random_state=42)",
   "id": "8cd1b1deae616863",
   "outputs": [],
   "execution_count": 18
  },
  {
   "metadata": {
    "ExecuteTime": {
     "end_time": "2024-11-20T01:16:29.425856Z",
     "start_time": "2024-11-20T01:16:29.422023Z"
    }
   },
   "cell_type": "code",
   "source": "model = ExtraTreesRegressor(n_estimators=100, random_state=42)\n",
   "id": "63f3e82b1b9cef4b",
   "outputs": [],
   "execution_count": 19
  },
  {
   "metadata": {
    "ExecuteTime": {
     "end_time": "2024-11-20T01:32:16.125565Z",
     "start_time": "2024-11-20T01:16:29.481143Z"
    }
   },
   "cell_type": "code",
   "source": "model_fit = model.fit(x_train, y_train)",
   "id": "79c98ae8b1e0f54c",
   "outputs": [
    {
     "name": "stderr",
     "output_type": "stream",
     "text": [
      "C:\\Users\\Blake\\miniconda3\\envs\\HouseProtestValues\\Lib\\site-packages\\sklearn\\utils\\validation.py:877: UserWarning: pandas.DataFrame with sparse columns found.It will be converted to a dense numpy array.\n",
      "  warnings.warn(\n"
     ]
    }
   ],
   "execution_count": 20
  },
  {
   "metadata": {
    "jupyter": {
     "is_executing": true
    },
    "ExecuteTime": {
     "start_time": "2024-11-20T01:36:47.301682Z"
    }
   },
   "cell_type": "code",
   "source": "cross_val_score(model_fit, x_train, y_train, scoring='accuracy', cv=5, n_jobs=-1).mean()",
   "id": "4488ad5c2a098fe8",
   "outputs": [],
   "execution_count": null
  },
  {
   "metadata": {
    "ExecuteTime": {
     "end_time": "2024-11-20T01:33:05.342322Z",
     "start_time": "2024-11-20T01:32:16.501480Z"
    }
   },
   "cell_type": "code",
   "source": [
    "y_pred = model.predict(x_test)\n",
    "print(f\"Mean Squared Error: {mean_squared_error(y_test, y_pred)}\")"
   ],
   "id": "83545ed262d67d8c",
   "outputs": [
    {
     "name": "stderr",
     "output_type": "stream",
     "text": [
      "C:\\Users\\Blake\\miniconda3\\envs\\HouseProtestValues\\Lib\\site-packages\\sklearn\\utils\\validation.py:877: UserWarning: pandas.DataFrame with sparse columns found.It will be converted to a dense numpy array.\n",
      "  warnings.warn(\n"
     ]
    },
    {
     "name": "stdout",
     "output_type": "stream",
     "text": [
      "Mean Squared Error: 31645615157.76855\n"
     ]
    }
   ],
   "execution_count": 21
  },
  {
   "metadata": {
    "ExecuteTime": {
     "end_time": "2024-11-20T01:33:05.539694Z",
     "start_time": "2024-11-20T01:33:05.534696Z"
    }
   },
   "cell_type": "code",
   "source": [
    "param_grid = {\n",
    "    'n_estimators': [100, 250, 500],\n",
    "    'min_samples_leaf': [5, 15, 25],\n",
    "    'max_features': [10, 20, 30],\n",
    "    'criterion': ['gini', 'entropy']\n",
    "}"
   ],
   "id": "372806e1ddda94d5",
   "outputs": [],
   "execution_count": null
  },
  {
   "metadata": {
    "ExecuteTime": {
     "end_time": "2024-11-20T01:33:05.582434Z",
     "start_time": "2024-11-20T01:33:05.579217Z"
    }
   },
   "cell_type": "code",
   "source": "etc2 = GridSearchCV(model_fit, param_grid,cv=3, n_jobs=-1)",
   "id": "f4a73c266f8f8b05",
   "outputs": [],
   "execution_count": null
  },
  {
   "metadata": {
    "ExecuteTime": {
     "end_time": "2024-11-20T01:33:05.685037Z",
     "start_time": "2024-11-20T01:33:05.681971Z"
    }
   },
   "cell_type": "code",
   "source": "etc2.fit(x_train,y_train)",
   "id": "4bcb64c5198da257",
   "outputs": [],
   "execution_count": null
  },
  {
   "metadata": {},
   "cell_type": "code",
   "outputs": [],
   "execution_count": null,
   "source": "etc2.best_params_",
   "id": "66ea07fcb01336fb"
  },
  {
   "metadata": {},
   "cell_type": "code",
   "outputs": [],
   "execution_count": null,
   "source": "etc2.best_score_",
   "id": "c35939d6dc020571"
  }
 ],
 "metadata": {
  "kernelspec": {
   "display_name": "Python 3",
   "language": "python",
   "name": "python3"
  },
  "language_info": {
   "codemirror_mode": {
    "name": "ipython",
    "version": 2
   },
   "file_extension": ".py",
   "mimetype": "text/x-python",
   "name": "python",
   "nbconvert_exporter": "python",
   "pygments_lexer": "ipython2",
   "version": "2.7.6"
  }
 },
 "nbformat": 4,
 "nbformat_minor": 5
}
