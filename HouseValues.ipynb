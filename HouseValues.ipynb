{
 "cells": [
  {
   "cell_type": "markdown",
   "id": "dfaa3b285ce4154a",
   "metadata": {},
   "source": [
    "# Harris County Home Price Estimations"
   ]
  },
  {
   "cell_type": "code",
   "execution_count": null,
   "id": "b46db3d349b43b10",
   "metadata": {
    "ExecuteTime": {
     "end_time": "2024-11-22T15:23:01.828729Z",
     "start_time": "2024-11-22T15:23:01.448973Z"
    },
    "editable": true,
    "slideshow": {
     "slide_type": ""
    },
    "tags": []
   },
   "outputs": [],
   "source": [
    "import pandas as pd\n",
    "import numpy as np\n",
    "import math\n",
    "import seaborn as sns\n",
    "from matplotlib import pyplot as plt\n",
    "from sklearn.ensemble import ExtraTreesRegressor\n",
    "from sklearn.metrics import mean_squared_error, mean_absolute_error, r2_score\n",
    "from sklearn.model_selection import GridSearchCV\n",
    "from sklearn.model_selection import cross_val_score\n",
    "from sklearn.model_selection import train_test_split\n",
    "from sklearn.preprocessing import OneHotEncoder\n",
    "from haversine import haversine\n",
    "\n",
    "\n",
    "from Load_to_DataFrame import load_data_frame\n",
    "\n",
    "from itables import init_notebook_mode, show\n",
    "\n",
    "init_notebook_mode(all_interactive=True)"
   ]
  },
  {
   "cell_type": "code",
   "execution_count": null,
   "id": "cd1a018ec0b04206",
   "metadata": {
    "ExecuteTime": {
     "end_time": "2024-11-22T15:23:49.583002Z",
     "start_time": "2024-11-22T15:23:01.978361Z"
    }
   },
   "outputs": [],
   "source": [
    "df = load_data_frame()"
   ]
  },
  {
   "cell_type": "code",
   "execution_count": null,
   "id": "4a5da9a5-70eb-4e15-a93c-49482f1fc105",
   "metadata": {},
   "outputs": [],
   "source": [
    "# from math import sin, cos, sqrt, radians, atan2\n",
    "\n",
    "\n",
    "# def haversine_distance(lat1, lon1, lat2, lon2):\n",
    "#     \"\"\"\n",
    "#     Calculates the Haversine distance between two points on a sphere.\n",
    "#     \"\"\"\n",
    "#     # R = 6371  # Earth radius in kilometers\n",
    "#     R = 3956  # Eath radius in miles\n",
    "#     dlat = radians(lat2 - lat1)\n",
    "#     dlon = radians(lon2 - lon1)\n",
    "#     a = (\n",
    "#         sin(dlat / 2) ** 2\n",
    "#         + cos(radians(lat1)) * cos(radians(lat2)) * sin(dlon / 2) ** 2\n",
    "#     )\n",
    "#     c = 2 * atan2(sqrt(a), sqrt(1 - a))\n",
    "#     return R * c\n",
    "\n",
    "# # Reference point coordinates\n",
    "# ref_lat = 29.760100\n",
    "# ref_lon = -95.370100\n",
    "\n",
    "# # Add a new column with calculated distances\n",
    "# df[\"distance\"] = df.apply(\n",
    "#     lambda row: haversine_distance(ref_lat, ref_lon, row[\"lat\"], row[\"long\"]),\n",
    "#     axis=1,\n",
    "# )"
   ]
  },
  {
   "cell_type": "code",
   "execution_count": null,
   "id": "d208764c",
   "metadata": {},
   "outputs": [],
   "source": [
    "# Define the haversine function\n",
    "def haversine(lat1, lon1, lat2, lon2):\n",
    "    # Radius of Earth in miles\n",
    "    R = 3958.8\n",
    "    # Convert degrees to radians\n",
    "    phi1, phi2 = np.radians(lat1), np.radians(lat2)\n",
    "    d_phi = np.radians(lat2 - lat1)\n",
    "    d_lambda = np.radians(lon2 - lon1)\n",
    "    # Haversine formula\n",
    "    a = np.sin(d_phi / 2) ** 2 + np.cos(phi1) * np.cos(phi2) * np.sin(d_lambda / 2) ** 2\n",
    "    c = 2 * np.arctan2(np.sqrt(a), np.sqrt(1 - a))\n",
    "    return R * c\n",
    "\n",
    "\n",
    "# # Example DataFrame with latitude and longitude\n",
    "# data = {\n",
    "#     \"latitude\": [34.0522, 36.1699, 40.7128],  # Los Angeles, Las Vegas, New York\n",
    "#     \"longitude\": [-118.2437, -115.1398, -74.0060]\n",
    "# }\n",
    "# df = pd.DataFrame(data)\n",
    "\n",
    "# Define the single point (latitude, longitude) to calculate the distance from\n",
    "single_point = (-95.370100, 29.760100)  # Houston\n",
    "\n",
    "# Add a new column with distances\n",
    "df[\"distance_miles\"] = df.apply(\n",
    "    lambda row: haversine(single_point[0], single_point[1], row[\"lat\"], row[\"long\"]),\n",
    "    axis=1,\n",
    ")"
   ]
  },
  {
   "cell_type": "code",
   "execution_count": null,
   "id": "f76413b569b9e538",
   "metadata": {
    "ExecuteTime": {
     "end_time": "2024-11-22T15:23:49.892615Z",
     "start_time": "2024-11-22T15:23:49.883489Z"
    }
   },
   "outputs": [],
   "source": [
    "df[\"assessed_per_sqft\"] = df[\"assessed_per_sqft\"].replace([np.inf, -np.inf], np.nan)"
   ]
  },
  {
   "cell_type": "code",
   "execution_count": null,
   "id": "b4ebc4ea-1547-4cbe-abb7-a04b1041990c",
   "metadata": {},
   "outputs": [],
   "source": [
    "show(df)"
   ]
  },
  {
   "cell_type": "code",
   "execution_count": null,
   "id": "aae17757-343f-482f-ad5c-dbbbcf6cb0be",
   "metadata": {
    "ExecuteTime": {
     "end_time": "2024-11-22T15:23:49.892615Z",
     "start_time": "2024-11-22T15:23:49.883489Z"
    }
   },
   "outputs": [],
   "source": [
    "df[\"assessed_per_sqft\"].describe()"
   ]
  },
  {
   "cell_type": "markdown",
   "id": "eb9ebadf4831986a",
   "metadata": {},
   "source": [
    "# Reduce data set to manageable size\n",
    "The current data set is over 1.1M rows. This will take days to train a model on a regular computer. \n",
    "\n",
    "The help reduce the dataset I will start by removing all homes where the im_sq_ft is less than 50, since it is not really livable when there are not even 50 square feet of space. \n",
    "\n",
    "Next I will use the IQR to assess the market value and remove outliers so the data will not be as skewed."
   ]
  },
  {
   "cell_type": "code",
   "execution_count": null,
   "id": "5450f66d71cecfc8",
   "metadata": {
    "ExecuteTime": {
     "end_time": "2024-11-22T15:23:50.151893Z",
     "start_time": "2024-11-22T15:23:50.147239Z"
    }
   },
   "outputs": [],
   "source": [
    "# Filter data_df to values between Lower IQR and Upper IQR\n",
    "# IQR\n",
    "Q1 = df[\"assessed_val\"].quantile(0.25)\n",
    "Q3 = df[\"assessed_val\"].quantile(0.75)\n",
    "IQR = Q3 - Q1\n",
    "\n",
    "lower_iqr = Q1 - 1.5 * IQR\n",
    "upper_iqr = Q3 + 1.5 * IQR\n",
    "print(f\"Lower IQR: {lower_iqr} | Upper IQR: {upper_iqr}\")"
   ]
  },
  {
   "cell_type": "code",
   "execution_count": null,
   "id": "125dc037",
   "metadata": {},
   "outputs": [],
   "source": [
    "df = df[df[\"assessed_val\"] <= 2000000]\n",
    "\n",
    "y_market = df[\"tot_mkt_val\"]\n",
    "y_assessed = df[\"assessed_val\"]\n",
    "y_bld_val = df[\"bld_val\"]\n",
    "y_per_sqft = df[\"assessed_per_sqft\"]"
   ]
  },
  {
   "cell_type": "code",
   "execution_count": null,
   "id": "7485d4d89a1f3af4",
   "metadata": {
    "ExecuteTime": {
     "end_time": "2024-11-22T15:23:56.991126Z",
     "start_time": "2024-11-22T15:23:50.221910Z"
    },
    "editable": true,
    "slideshow": {
     "slide_type": ""
    },
    "tags": []
   },
   "outputs": [],
   "source": [
    "fig, axs = plt.subplots(2, 2)\n",
    "\n",
    "# Total Market Price\n",
    "axs[0, 0].hist(y_market, bins=\"auto\")\n",
    "axs[0, 0].set_title(\"Total Market Price\")\n",
    "\n",
    "# Assessed values\n",
    "axs[1, 0].hist(y_assessed, bins=\"auto\")\n",
    "axs[1, 0].set_title(\"Assessed Price\")\n",
    "\n",
    "# Building value\n",
    "axs[0, 1].hist(y_bld_val, bins=\"auto\")\n",
    "axs[0, 1].set_title(\"Building Price\")\n",
    "\n",
    "# Price per square foot\n",
    "axs[1, 1].hist(y_per_sqft, bins=\"auto\")\n",
    "axs[1, 1].set_title(\"Price / SqFt\")\n",
    "\n",
    "fig.tight_layout()\n",
    "plt.show()"
   ]
  },
  {
   "cell_type": "code",
   "execution_count": null,
   "id": "248eefa8b92e06f2",
   "metadata": {
    "ExecuteTime": {
     "end_time": "2024-11-22T15:23:57.130265Z",
     "start_time": "2024-11-22T15:23:57.008455Z"
    },
    "editable": true,
    "slideshow": {
     "slide_type": ""
    },
    "tags": []
   },
   "outputs": [],
   "source": [
    "# # Removed features: ,, 'solar_panel', 'lat', 'long'\n",
    "# y_market = df[\"tot_mkt_val\"]\n",
    "# y_assessed = df[\"assessed_val\"]\n",
    "# y_bld_val = df[\"bld_val\"]\n",
    "# y_per_sqft = df[\"assessed_per_sqft\"]"
   ]
  },
  {
   "cell_type": "code",
   "execution_count": null,
   "id": "4ceb375c7b3e7170",
   "metadata": {
    "ExecuteTime": {
     "end_time": "2024-11-22T15:23:57.372218Z",
     "start_time": "2024-11-22T15:23:57.151497Z"
    }
   },
   "outputs": [],
   "source": [
    "# IQR\n",
    "Q1 = df[\"assessed_val\"].quantile(0.25)\n",
    "Q3 = df[\"assessed_val\"].quantile(0.75)\n",
    "IQR = Q3 - Q1\n",
    "\n",
    "lower_iqr = Q1 - 1.5 * IQR\n",
    "upper_iqr = Q3 + 1.5 * IQR\n",
    "print(f\"Lower IQR: {lower_iqr} | Upper IQR: {upper_iqr}\")"
   ]
  },
  {
   "cell_type": "code",
   "execution_count": null,
   "id": "9fd1cc4c2b96b0b",
   "metadata": {
    "ExecuteTime": {
     "end_time": "2024-11-22T15:23:58.362194Z",
     "start_time": "2024-11-22T15:23:57.394506Z"
    }
   },
   "outputs": [],
   "source": [
    "plt.hist(df[\"tot_mkt_val\"], bins=\"auto\")\n",
    "plt.xlabel(\"Total Market Value ($)\")\n",
    "plt.ylabel(\"Frequency\")\n",
    "plt.title(\"Histogram of Total Market Value\")\n",
    "plt.show()"
   ]
  },
  {
   "cell_type": "code",
   "execution_count": null,
   "id": "1561493f9405902a",
   "metadata": {
    "ExecuteTime": {
     "end_time": "2024-11-22T15:25:13.504159Z",
     "start_time": "2024-11-22T15:25:12.703363Z"
    }
   },
   "outputs": [],
   "source": [
    "plt.hist(df[\"assessed_val\"], bins=\"auto\")\n",
    "plt.xlabel(\"Total Market Value ($)\")\n",
    "plt.ylabel(\"Frequency\")\n",
    "plt.title(\"Histogram of Assessed Value\")\n",
    "plt.show()"
   ]
  },
  {
   "cell_type": "markdown",
   "id": "4af5d3e6-73d1-45e8-bd54-909de165a040",
   "metadata": {
    "editable": true,
    "slideshow": {
     "slide_type": ""
    },
    "tags": []
   },
   "source": [
    "## Sample Size Reduction\n",
    "Since the data set is still over 1M homes, we need to reduce the size to create a model."
   ]
  },
  {
   "cell_type": "code",
   "execution_count": null,
   "id": "7217ba94-a227-4be6-a384-7136d6c4b0d2",
   "metadata": {},
   "outputs": [],
   "source": [
    "sample_df = df.sample(n=25000, random_state=42)\n",
    "show(sample_df)"
   ]
  },
  {
   "cell_type": "code",
   "execution_count": null,
   "id": "e0ec9a5fb0afe065",
   "metadata": {},
   "outputs": [],
   "source": [
    "corr_matrix = sample_df.corr()\n",
    "plt.figure(figsize=(25, 12))\n",
    "sns.heatmap(data=corr_matrix, annot=True, cmap=\"coolwarm\")\n",
    "plt.tight_layout()\n",
    "plt.show()"
   ]
  },
  {
   "cell_type": "code",
   "execution_count": null,
   "id": "a6ef1b57-eb23-4aa8-b5b6-7c4b63bac3eb",
   "metadata": {},
   "outputs": [],
   "source": [
    "X = sample_df[\n",
    "    [\n",
    "        \"date_erected\",\n",
    "        \"im_sq_ft\",\n",
    "        \"land_ar\",\n",
    "        \"perimeter\",\n",
    "        \"bedrooms\",\n",
    "        \"full_bath\",\n",
    "        \"half_bath\",\n",
    "        \"total_rooms\",\n",
    "        \"dscr_good\",\n",
    "        \"dscr_low\",\n",
    "        \"dscr_very_low\",\n",
    "        \"dscr_average\",\n",
    "        \"dscr_excellent\",\n",
    "        \"dscr_superior\",\n",
    "        \"dscr_poor\",\n",
    "        \"frame_detached_garage\",\n",
    "        \"gunite_pool\",\n",
    "        \"pool_heater\",\n",
    "        \"brick_garage\",\n",
    "        \"canopy_residential\",\n",
    "        \"frame_abov\",\n",
    "        \"frame_shed\",\n",
    "        \"carport_residential\",\n",
    "        \"foundation_repaired\",\n",
    "        \"cracked_slab\",\n",
    "        \"distance_miles\",\n",
    "    ]\n",
    "]\n",
    "\n",
    "y_assessed = sample_df[\"assessed_val\"]\n",
    "print(X.shape)"
   ]
  },
  {
   "cell_type": "markdown",
   "id": "0c9b9101-fff1-477e-b001-911f74eb7625",
   "metadata": {},
   "source": [
    "# Train, Test, Split"
   ]
  },
  {
   "cell_type": "code",
   "execution_count": null,
   "id": "a7753a8f-87cd-43d8-94ea-38f00660bddb",
   "metadata": {},
   "outputs": [],
   "source": [
    "x_train, x_test, y_train, y_test = train_test_split(\n",
    "    X, y_assessed, test_size=0.3, random_state=42\n",
    ")"
   ]
  },
  {
   "cell_type": "code",
   "execution_count": null,
   "id": "63f3e82b1b9cef4b",
   "metadata": {},
   "outputs": [],
   "source": [
    "etc = ExtraTreesRegressor(random_state=42)"
   ]
  },
  {
   "cell_type": "code",
   "execution_count": null,
   "id": "372806e1ddda94d5",
   "metadata": {},
   "outputs": [],
   "source": [
    "param_grid = {\n",
    "    \"n_estimators\": [100, 200, 300, 400, 500, 600, 700, 800, 900, 1000],\n",
    "    \"min_samples_leaf\": [1, 2],\n",
    "    \"max_features\": [\"sqrt\", \"log2\", 10, 20, 26],\n",
    "    \"criterion\": [\"friedman_mse\", \"absolute_error\"],\n",
    "}"
   ]
  },
  {
   "cell_type": "code",
   "execution_count": null,
   "id": "f4a73c266f8f8b05",
   "metadata": {
    "editable": true,
    "slideshow": {
     "slide_type": ""
    },
    "tags": []
   },
   "outputs": [],
   "source": [
    "etc_cv = GridSearchCV(etc, param_grid, cv=5, n_jobs=-1, scoring=\"r2\")"
   ]
  },
  {
   "cell_type": "code",
   "execution_count": null,
   "id": "4bcb64c5198da257",
   "metadata": {
    "editable": true,
    "slideshow": {
     "slide_type": ""
    },
    "tags": []
   },
   "outputs": [],
   "source": [
    "etc_cv.fit(x_train, y_train)"
   ]
  },
  {
   "cell_type": "code",
   "execution_count": null,
   "id": "66ea07fcb01336fb",
   "metadata": {},
   "outputs": [],
   "source": [
    "etc_cv.best_params_"
   ]
  },
  {
   "cell_type": "code",
   "execution_count": null,
   "id": "c35939d6dc020571",
   "metadata": {},
   "outputs": [],
   "source": [
    "etc_cv.best_score_"
   ]
  },
  {
   "cell_type": "code",
   "execution_count": null,
   "id": "54eae1df",
   "metadata": {},
   "outputs": [],
   "source": [
    "etc_cv_results = pd.DataFrame(etc_cv.cv_results_)\n",
    "etc_cv_results[\"param_n_estimators\"] = etc_cv_results[\"param_n_estimators\"].astype(\n",
    "    \"category\"\n",
    ")\n",
    "etc_cv_results.info()"
   ]
  },
  {
   "cell_type": "code",
   "execution_count": null,
   "id": "9675b70f",
   "metadata": {},
   "outputs": [],
   "source": [
    "plt.bar(\n",
    "    etc_cv_results[\"param_n_estimators\"], etc_cv_results[\"mean_test_score\"], width=20\n",
    ")\n",
    "plt.xlabel(\"n_estimators\")\n",
    "plt.ylabel(\"Mean Test Score\")\n",
    "plt.title(\"Effect of n_estimators on Mean Test Score\")\n",
    "plt.show()"
   ]
  },
  {
   "cell_type": "code",
   "execution_count": null,
   "id": "e42ab21b",
   "metadata": {},
   "outputs": [],
   "source": []
  },
  {
   "cell_type": "code",
   "execution_count": null,
   "id": "564a0775",
   "metadata": {},
   "outputs": [],
   "source": []
  },
  {
   "cell_type": "markdown",
   "id": "d22ac31c",
   "metadata": {},
   "source": [
    "## Analysis of testing data"
   ]
  },
  {
   "cell_type": "code",
   "execution_count": null,
   "id": "a075f4ba",
   "metadata": {},
   "outputs": [],
   "source": [
    "etc_pred = etc_cv.predict(x_test)\n",
    "etc_mae = mean_absolute_error(y_test, etc_pred)\n",
    "etc_mse = mean_squared_error(y_test, etc_pred)\n",
    "etc_r2 = r2_score(y_test, etc_pred)\n",
    "print(f\"MAE: {etc_mae}\\nMSE: {etc_mse}\\nR Squared: {etc_r2}\\n\")"
   ]
  },
  {
   "cell_type": "code",
   "execution_count": null,
   "id": "ab2af95d",
   "metadata": {},
   "outputs": [],
   "source": [
    "# Save model\n",
    "import joblib\n",
    "from datetime import datetime\n",
    "\n",
    "# Get the current date\n",
    "current_date = datetime.now()\n",
    "\n",
    "# Format the date as YYYYmmdd\n",
    "formatted_date = current_date.strftime(\"%Y%m%d\")\n",
    "\n",
    "joblib.dump(etc_cv, f\"Models/etc_{formatted_date}.pkl\")"
   ]
  },
  {
   "cell_type": "markdown",
   "id": "79e29776-5ac7-4635-ba1e-c2e55643d653",
   "metadata": {},
   "source": [
    "# Residual Analysis"
   ]
  },
  {
   "cell_type": "code",
   "execution_count": null,
   "id": "9348f0cb-bd03-4fe9-baea-29378c34eea2",
   "metadata": {
    "editable": true,
    "slideshow": {
     "slide_type": ""
    },
    "tags": []
   },
   "outputs": [],
   "source": [
    "actual = y_test.to_list()\n",
    "predicted = etc_cv.predict(x_test)\n",
    "etc_residuals = pd.DataFrame({\"actual\": actual, \"predicted\": predicted})\n",
    "etc_residuals[\"residuals\"] = etc_residuals[\"actual\"] - etc_residuals[\"predicted\"]"
   ]
  },
  {
   "cell_type": "code",
   "execution_count": null,
   "id": "a5530731-f587-4f66-8632-96b495b69d6f",
   "metadata": {
    "editable": true,
    "slideshow": {
     "slide_type": ""
    },
    "tags": []
   },
   "outputs": [],
   "source": [
    "fig, ax = plt.subplots(figsize=(9, 9))\n",
    "\n",
    "x = etc_residuals[\"actual\"]\n",
    "y = etc_residuals[\"predicted\"]\n",
    "\n",
    "# Scatter plot\n",
    "ax.scatter(x, y, s=60, alpha=0.7, edgecolors=\"k\")\n",
    "plt.xlabel(\"Actual Prices\")\n",
    "plt.ylabel(\"Predicted Prices\")\n",
    "plt.title(\"Actual vs Predicted Prices ($) \")\n",
    "plt.show()"
   ]
  },
  {
   "cell_type": "code",
   "execution_count": null,
   "id": "36962714-f97f-4691-9937-f85f099023ad",
   "metadata": {},
   "outputs": [],
   "source": []
  },
  {
   "cell_type": "code",
   "execution_count": null,
   "id": "af0efb77-6a77-42db-b02d-79e08b69fb4b",
   "metadata": {},
   "outputs": [],
   "source": []
  }
 ],
 "metadata": {
  "kernelspec": {
   "display_name": "capstone",
   "language": "python",
   "name": "python3"
  },
  "language_info": {
   "codemirror_mode": {
    "name": "ipython",
    "version": 3
   },
   "file_extension": ".py",
   "mimetype": "text/x-python",
   "name": "python",
   "nbconvert_exporter": "python",
   "pygments_lexer": "ipython3",
   "version": "3.12.7"
  }
 },
 "nbformat": 4,
 "nbformat_minor": 5
}
