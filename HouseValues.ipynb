{
 "cells": [
  {
   "metadata": {},
   "cell_type": "markdown",
   "source": "# Harris County Home Price Estimations",
   "id": "dfaa3b285ce4154a"
  },
  {
   "metadata": {
    "ExecuteTime": {
     "end_time": "2024-11-22T15:23:01.828729Z",
     "start_time": "2024-11-22T15:23:01.448973Z"
    }
   },
   "cell_type": "code",
   "source": [
    "import pandas as pd\n",
    "from matplotlib import pyplot as plt\n",
    "from sklearn.ensemble import ExtraTreesRegressor\n",
    "from sklearn.metrics import mean_squared_error\n",
    "from sklearn.model_selection import GridSearchCV\n",
    "from sklearn.model_selection import cross_val_score\n",
    "from sklearn.model_selection import train_test_split\n",
    "from sklearn.preprocessing import OneHotEncoder\n",
    "\n",
    "from Load_to_DataFrame import load_data_frame\n"
   ],
   "id": "b46db3d349b43b10",
   "outputs": [],
   "execution_count": 1
  },
  {
   "metadata": {
    "ExecuteTime": {
     "end_time": "2024-11-22T15:23:49.583002Z",
     "start_time": "2024-11-22T15:23:01.978361Z"
    }
   },
   "cell_type": "code",
   "source": "df = load_data_frame()",
   "id": "cd1a018ec0b04206",
   "outputs": [],
   "execution_count": 2
  },
  {
   "metadata": {
    "ExecuteTime": {
     "end_time": "2024-11-22T15:23:49.622198Z",
     "start_time": "2024-11-22T15:23:49.597050Z"
    }
   },
   "cell_type": "code",
   "source": "df.head()",
   "id": "e5af15fefe6d656c",
   "outputs": [
    {
     "data": {
      "text/plain": [
       "          acct  bld_num  date_erected  im_sq_ft  land_ar  perimeter dpr_val  \\\n",
       "0  20720000014        1          2019      2534     5564        452  483261   \n",
       "1  21440000001        1          2004      2537     5000        314  307658   \n",
       "2  21480000002        1          1917      1496     5000        186    9621   \n",
       "3  21650000007        1          2015      3387     5000        578  587261   \n",
       "4  21650000011        1          2003      1508     6250        210  172034   \n",
       "\n",
       "   bedrooms  full_bath  half_bath  ...  foundation_repaired  cracked_slab  \\\n",
       "0       3.0        3.0        1.0  ...                    0             0   \n",
       "1       3.0        2.0        1.0  ...                    0             0   \n",
       "2       3.0        1.0        0.0  ...                    0             0   \n",
       "3       3.0        3.0        1.0  ...                    0             0   \n",
       "4       3.0        2.0        0.0  ...                    0             0   \n",
       "\n",
       "         lat       long  land_val   bld_val  assessed_val  tot_appr_val  \\\n",
       "0 -95.356534  29.743903  253352.0  451951.0      705303.0      705303.0   \n",
       "1 -95.358428  29.740005  200000.0  307658.0      510178.0      311246.0   \n",
       "2 -95.361765  29.742185  200000.0    9486.0      209586.0      209586.0   \n",
       "3 -95.361889  29.741158  200000.0  523919.0      723919.0      723919.0   \n",
       "4 -95.361493  29.741294  225000.0  172034.0      397034.0      388778.0   \n",
       "\n",
       "   tot_mkt_val  assessed_per_sqft  \n",
       "0     705303.0         278.335833  \n",
       "1     510178.0         201.094994  \n",
       "2     209586.0         140.097594  \n",
       "3     723919.0         213.734573  \n",
       "4     397034.0         263.285146  \n",
       "\n",
       "[5 rows x 37 columns]"
      ],
      "text/html": [
       "<div>\n",
       "<style scoped>\n",
       "    .dataframe tbody tr th:only-of-type {\n",
       "        vertical-align: middle;\n",
       "    }\n",
       "\n",
       "    .dataframe tbody tr th {\n",
       "        vertical-align: top;\n",
       "    }\n",
       "\n",
       "    .dataframe thead th {\n",
       "        text-align: right;\n",
       "    }\n",
       "</style>\n",
       "<table border=\"1\" class=\"dataframe\">\n",
       "  <thead>\n",
       "    <tr style=\"text-align: right;\">\n",
       "      <th></th>\n",
       "      <th>acct</th>\n",
       "      <th>bld_num</th>\n",
       "      <th>date_erected</th>\n",
       "      <th>im_sq_ft</th>\n",
       "      <th>land_ar</th>\n",
       "      <th>perimeter</th>\n",
       "      <th>dpr_val</th>\n",
       "      <th>bedrooms</th>\n",
       "      <th>full_bath</th>\n",
       "      <th>half_bath</th>\n",
       "      <th>...</th>\n",
       "      <th>foundation_repaired</th>\n",
       "      <th>cracked_slab</th>\n",
       "      <th>lat</th>\n",
       "      <th>long</th>\n",
       "      <th>land_val</th>\n",
       "      <th>bld_val</th>\n",
       "      <th>assessed_val</th>\n",
       "      <th>tot_appr_val</th>\n",
       "      <th>tot_mkt_val</th>\n",
       "      <th>assessed_per_sqft</th>\n",
       "    </tr>\n",
       "  </thead>\n",
       "  <tbody>\n",
       "    <tr>\n",
       "      <th>0</th>\n",
       "      <td>20720000014</td>\n",
       "      <td>1</td>\n",
       "      <td>2019</td>\n",
       "      <td>2534</td>\n",
       "      <td>5564</td>\n",
       "      <td>452</td>\n",
       "      <td>483261</td>\n",
       "      <td>3.0</td>\n",
       "      <td>3.0</td>\n",
       "      <td>1.0</td>\n",
       "      <td>...</td>\n",
       "      <td>0</td>\n",
       "      <td>0</td>\n",
       "      <td>-95.356534</td>\n",
       "      <td>29.743903</td>\n",
       "      <td>253352.0</td>\n",
       "      <td>451951.0</td>\n",
       "      <td>705303.0</td>\n",
       "      <td>705303.0</td>\n",
       "      <td>705303.0</td>\n",
       "      <td>278.335833</td>\n",
       "    </tr>\n",
       "    <tr>\n",
       "      <th>1</th>\n",
       "      <td>21440000001</td>\n",
       "      <td>1</td>\n",
       "      <td>2004</td>\n",
       "      <td>2537</td>\n",
       "      <td>5000</td>\n",
       "      <td>314</td>\n",
       "      <td>307658</td>\n",
       "      <td>3.0</td>\n",
       "      <td>2.0</td>\n",
       "      <td>1.0</td>\n",
       "      <td>...</td>\n",
       "      <td>0</td>\n",
       "      <td>0</td>\n",
       "      <td>-95.358428</td>\n",
       "      <td>29.740005</td>\n",
       "      <td>200000.0</td>\n",
       "      <td>307658.0</td>\n",
       "      <td>510178.0</td>\n",
       "      <td>311246.0</td>\n",
       "      <td>510178.0</td>\n",
       "      <td>201.094994</td>\n",
       "    </tr>\n",
       "    <tr>\n",
       "      <th>2</th>\n",
       "      <td>21480000002</td>\n",
       "      <td>1</td>\n",
       "      <td>1917</td>\n",
       "      <td>1496</td>\n",
       "      <td>5000</td>\n",
       "      <td>186</td>\n",
       "      <td>9621</td>\n",
       "      <td>3.0</td>\n",
       "      <td>1.0</td>\n",
       "      <td>0.0</td>\n",
       "      <td>...</td>\n",
       "      <td>0</td>\n",
       "      <td>0</td>\n",
       "      <td>-95.361765</td>\n",
       "      <td>29.742185</td>\n",
       "      <td>200000.0</td>\n",
       "      <td>9486.0</td>\n",
       "      <td>209586.0</td>\n",
       "      <td>209586.0</td>\n",
       "      <td>209586.0</td>\n",
       "      <td>140.097594</td>\n",
       "    </tr>\n",
       "    <tr>\n",
       "      <th>3</th>\n",
       "      <td>21650000007</td>\n",
       "      <td>1</td>\n",
       "      <td>2015</td>\n",
       "      <td>3387</td>\n",
       "      <td>5000</td>\n",
       "      <td>578</td>\n",
       "      <td>587261</td>\n",
       "      <td>3.0</td>\n",
       "      <td>3.0</td>\n",
       "      <td>1.0</td>\n",
       "      <td>...</td>\n",
       "      <td>0</td>\n",
       "      <td>0</td>\n",
       "      <td>-95.361889</td>\n",
       "      <td>29.741158</td>\n",
       "      <td>200000.0</td>\n",
       "      <td>523919.0</td>\n",
       "      <td>723919.0</td>\n",
       "      <td>723919.0</td>\n",
       "      <td>723919.0</td>\n",
       "      <td>213.734573</td>\n",
       "    </tr>\n",
       "    <tr>\n",
       "      <th>4</th>\n",
       "      <td>21650000011</td>\n",
       "      <td>1</td>\n",
       "      <td>2003</td>\n",
       "      <td>1508</td>\n",
       "      <td>6250</td>\n",
       "      <td>210</td>\n",
       "      <td>172034</td>\n",
       "      <td>3.0</td>\n",
       "      <td>2.0</td>\n",
       "      <td>0.0</td>\n",
       "      <td>...</td>\n",
       "      <td>0</td>\n",
       "      <td>0</td>\n",
       "      <td>-95.361493</td>\n",
       "      <td>29.741294</td>\n",
       "      <td>225000.0</td>\n",
       "      <td>172034.0</td>\n",
       "      <td>397034.0</td>\n",
       "      <td>388778.0</td>\n",
       "      <td>397034.0</td>\n",
       "      <td>263.285146</td>\n",
       "    </tr>\n",
       "  </tbody>\n",
       "</table>\n",
       "<p>5 rows × 37 columns</p>\n",
       "</div>"
      ]
     },
     "execution_count": 3,
     "metadata": {},
     "output_type": "execute_result"
    }
   ],
   "execution_count": 3
  },
  {
   "metadata": {
    "ExecuteTime": {
     "end_time": "2024-11-22T15:23:49.800731Z",
     "start_time": "2024-11-22T15:23:49.679279Z"
    }
   },
   "cell_type": "code",
   "source": "df.info()",
   "id": "88b03ca935c3a7f3",
   "outputs": [
    {
     "name": "stdout",
     "output_type": "stream",
     "text": [
      "<class 'pandas.core.frame.DataFrame'>\n",
      "RangeIndex: 1121077 entries, 0 to 1121076\n",
      "Data columns (total 37 columns):\n",
      " #   Column                 Non-Null Count    Dtype  \n",
      "---  ------                 --------------    -----  \n",
      " 0   acct                   1121077 non-null  int64  \n",
      " 1   bld_num                1121077 non-null  int64  \n",
      " 2   date_erected           1121077 non-null  int64  \n",
      " 3   im_sq_ft               1121077 non-null  int64  \n",
      " 4   land_ar                1121077 non-null  int64  \n",
      " 5   perimeter              1121077 non-null  int64  \n",
      " 6   dpr_val                1121077 non-null  object \n",
      " 7   bedrooms               1121077 non-null  float64\n",
      " 8   full_bath              1121077 non-null  float64\n",
      " 9   half_bath              1121077 non-null  float64\n",
      " 10  total_rooms            1121077 non-null  float64\n",
      " 11  dscr_good              1121077 non-null  int64  \n",
      " 12  dscr_average           1121077 non-null  int64  \n",
      " 13  dscr_low               1121077 non-null  int64  \n",
      " 14  dscr_very_low          1121077 non-null  int64  \n",
      " 15  dscr_excellent         1121077 non-null  int64  \n",
      " 16  dscr_superior          1121077 non-null  int64  \n",
      " 17  dscr_poor              1121077 non-null  int64  \n",
      " 18  frame_detached_garage  1121077 non-null  int64  \n",
      " 19  gunite_pool            1121077 non-null  int64  \n",
      " 20  solar_panel            1121077 non-null  int64  \n",
      " 21  pool_heater            1121077 non-null  int64  \n",
      " 22  brick_garage           1121077 non-null  int64  \n",
      " 23  canopy_residential     1121077 non-null  int64  \n",
      " 24  frame_abov             1121077 non-null  int64  \n",
      " 25  frame_shed             1121077 non-null  int64  \n",
      " 26  carport_residential    1121077 non-null  int64  \n",
      " 27  foundation_repaired    1121077 non-null  int64  \n",
      " 28  cracked_slab           1121077 non-null  int64  \n",
      " 29  lat                    1120255 non-null  float64\n",
      " 30  long                   1120255 non-null  float64\n",
      " 31  land_val               1121077 non-null  float64\n",
      " 32  bld_val                1121077 non-null  float64\n",
      " 33  assessed_val           1121077 non-null  float64\n",
      " 34  tot_appr_val           1121077 non-null  float64\n",
      " 35  tot_mkt_val            1121077 non-null  float64\n",
      " 36  assessed_per_sqft      1121077 non-null  float64\n",
      "dtypes: float64(12), int64(24), object(1)\n",
      "memory usage: 316.5+ MB\n"
     ]
    }
   ],
   "execution_count": 4
  },
  {
   "metadata": {
    "ExecuteTime": {
     "end_time": "2024-11-22T15:23:49.892615Z",
     "start_time": "2024-11-22T15:23:49.883489Z"
    }
   },
   "cell_type": "code",
   "source": "df.columns",
   "id": "f76413b569b9e538",
   "outputs": [
    {
     "data": {
      "text/plain": [
       "Index(['acct', 'bld_num', 'date_erected', 'im_sq_ft', 'land_ar', 'perimeter',\n",
       "       'dpr_val', 'bedrooms', 'full_bath', 'half_bath', 'total_rooms',\n",
       "       'dscr_good', 'dscr_average', 'dscr_low', 'dscr_very_low',\n",
       "       'dscr_excellent', 'dscr_superior', 'dscr_poor', 'frame_detached_garage',\n",
       "       'gunite_pool', 'solar_panel', 'pool_heater', 'brick_garage',\n",
       "       'canopy_residential', 'frame_abov', 'frame_shed', 'carport_residential',\n",
       "       'foundation_repaired', 'cracked_slab', 'lat', 'long', 'land_val',\n",
       "       'bld_val', 'assessed_val', 'tot_appr_val', 'tot_mkt_val',\n",
       "       'assessed_per_sqft'],\n",
       "      dtype='object')"
      ]
     },
     "execution_count": 5,
     "metadata": {},
     "output_type": "execute_result"
    }
   ],
   "execution_count": 5
  },
  {
   "metadata": {},
   "cell_type": "markdown",
   "source": [
    "# Reduce data set to manageable size\n",
    "The current data set is over 1.1M rows. This will take days to train a model on a regular computer. \n",
    "\n",
    "The help reduce the dataset I will start by removing all homes where the im_sq_ft is less than 50, since it is not really livable when there are not even 50 square feet of space. \n",
    "\n",
    "Next I will use the IQR to assess the market value and remove outliers so the data will not be as skewed."
   ],
   "id": "eb9ebadf4831986a"
  },
  {
   "metadata": {
    "ExecuteTime": {
     "end_time": "2024-11-22T15:23:50.151893Z",
     "start_time": "2024-11-22T15:23:50.147239Z"
    }
   },
   "cell_type": "code",
   "source": [
    "y_market = df['tot_mkt_val']\n",
    "y_assessed = df['assessed_val']\n",
    "y_bld_val = df['bld_val']\n",
    "y_per_sqft = df['assessed_per_sqft']\n"
   ],
   "id": "5450f66d71cecfc8",
   "outputs": [],
   "execution_count": 6
  },
  {
   "metadata": {
    "ExecuteTime": {
     "end_time": "2024-11-22T15:23:56.991126Z",
     "start_time": "2024-11-22T15:23:50.221910Z"
    }
   },
   "cell_type": "code",
   "source": [
    "plt.hist(y_market, bins='auto')\n",
    "plt.show()"
   ],
   "id": "7485d4d89a1f3af4",
   "outputs": [
    {
     "data": {
      "text/plain": [
       "<Figure size 640x480 with 1 Axes>"
      ],
      "image/png": "[encoded data removed]"
     },
     "metadata": {},
     "output_type": "display_data"
    }
   ],
   "execution_count": 7
  },
  {
   "metadata": {
    "ExecuteTime": {
     "end_time": "2024-11-22T15:23:57.130265Z",
     "start_time": "2024-11-22T15:23:57.008455Z"
    }
   },
   "cell_type": "code",
   "source": [
    "X = df[['date_erected', 'im_sq_ft', 'land_ar', 'perimeter',\n",
    "     'dpr_val', 'bedrooms', 'full_bath', 'half_bath', 'total_rooms',\n",
    "     'dscr_good', 'dscr_average', 'dscr_low', 'dscr_very_low',\n",
    "     'dscr_excellent', 'dscr_superior', 'dscr_poor', 'frame_detached_garage',\n",
    "     'gunite_pool', 'solar_panel', 'pool_heater', 'brick_garage',\n",
    "     'canopy_residential', 'frame_abov', 'frame_shed', 'carport_residential',\n",
    "     'foundation_repaired', 'cracked_slab', 'lat', 'long']]\n",
    "y_market = df['tot_mkt_val']\n",
    "y_assessed = df['assessed_val']\n",
    "y_bld_val = df['bld_val']\n",
    "y_per_sqft = df['assessed_per_sqft']"
   ],
   "id": "248eefa8b92e06f2",
   "outputs": [],
   "execution_count": 8
  },
  {
   "metadata": {
    "ExecuteTime": {
     "end_time": "2024-11-22T15:23:57.372218Z",
     "start_time": "2024-11-22T15:23:57.151497Z"
    }
   },
   "cell_type": "code",
   "source": [
    "# IQR\n",
    "Q1 = df['assessed_val'].quantile(0.25)\n",
    "Q3 = df['assessed_val'].quantile(0.75)\n",
    "IQR = Q3 - Q1\n",
    "\n",
    "lower_iqr = (Q1 - 1.5 * IQR)\n",
    "upper_iqr = (Q3 + 2 * IQR)\n",
    "print(f\"Lower IQR: {lower_iqr} | Upper IQR: {upper_iqr}\")\n",
    "\n",
    "# Filter data_df to values between Lower IQR and Upper IQR\n",
    "reduced_df = df[df['assessed_val'] <= 2000000]"
   ],
   "id": "4ceb375c7b3e7170",
   "outputs": [
    {
     "name": "stdout",
     "output_type": "stream",
     "text": [
      "Lower IQR: -43376.0 | Upper IQR: 739327.0\n"
     ]
    }
   ],
   "execution_count": 9
  },
  {
   "metadata": {
    "ExecuteTime": {
     "end_time": "2024-11-22T15:23:58.362194Z",
     "start_time": "2024-11-22T15:23:57.394506Z"
    }
   },
   "cell_type": "code",
   "source": [
    "plt.hist(reduced_df['tot_mkt_val'], bins='auto')\n",
    "plt.xlabel('Total Market Value ($)')\n",
    "plt.ylabel('Frequency')\n",
    "plt.title('Histogram of Total Market Value')\n",
    "plt.show()"
   ],
   "id": "9fd1cc4c2b96b0b",
   "outputs": [
    {
     "data": {
      "text/plain": [
       "<Figure size 640x480 with 1 Axes>"
      ],
      "image/png": "[encoded data removed]"
     },
     "metadata": {},
     "output_type": "display_data"
    }
   ],
   "execution_count": 10
  },
  {
   "metadata": {
    "ExecuteTime": {
     "end_time": "2024-11-22T15:25:13.504159Z",
     "start_time": "2024-11-22T15:25:12.703363Z"
    }
   },
   "cell_type": "code",
   "source": [
    "plt.hist(reduced_df['assessed_val'], bins='auto')\n",
    "plt.xlabel('Total Market Value ($)')\n",
    "plt.ylabel('Frequency')\n",
    "plt.title('Histogram of Assessed Value')\n",
    "plt.show()"
   ],
   "id": "1561493f9405902a",
   "outputs": [
    {
     "data": {
      "text/plain": [
       "<Figure size 640x480 with 1 Axes>"
      ],
      "image/png": "[encoded data removed]"
     },
     "metadata": {},
     "output_type": "display_data"
    }
   ],
   "execution_count": 13
  },
  {
   "metadata": {},
   "cell_type": "code",
   "source": "",
   "id": "d1a5b53ae054fb70",
   "outputs": [],
   "execution_count": null
  },
  {
   "metadata": {},
   "cell_type": "code",
   "source": "",
   "id": "e0ec9a5fb0afe065",
   "outputs": [],
   "execution_count": null
  },
  {
   "metadata": {},
   "cell_type": "code",
   "source": "",
   "id": "841976844e169060",
   "outputs": [],
   "execution_count": null
  },
  {
   "metadata": {},
   "cell_type": "code",
   "source": "",
   "id": "8613777476d40d52",
   "outputs": [],
   "execution_count": null
  },
  {
   "metadata": {},
   "cell_type": "code",
   "source": "all_df[x_categorical].head()",
   "id": "c7e48aab4fcd6150",
   "outputs": [],
   "execution_count": null
  },
  {
   "metadata": {},
   "cell_type": "code",
   "source": [
    "# initialize the OneHotEncoder\n",
    "encoder = OneHotEncoder(drop='first')\n",
    "\n",
    "#Fit and transform the categorical columns\n",
    "encoded = encoder.fit_transform(all_df[x_categorical])\n",
    "\n",
    "df_results = pd.DataFrame.sparse.from_spmatrix(encoded)\n",
    "df_results.columns = encoder.get_feature_names_out(x_categorical)\n",
    "df_results.shape"
   ],
   "id": "31b1a4605e9f9aad",
   "outputs": [],
   "execution_count": null
  },
  {
   "metadata": {},
   "cell_type": "code",
   "source": "df_results.info()",
   "id": "493bda4b442274f5",
   "outputs": [],
   "execution_count": null
  },
  {
   "metadata": {},
   "cell_type": "code",
   "source": [
    "# Free up memory\n",
    "building_data = None\n",
    "fix_pt = None\n",
    "fixtures = None\n"
   ],
   "id": "1bb52e2e31131748",
   "outputs": [],
   "execution_count": null
  },
  {
   "metadata": {},
   "cell_type": "code",
   "source": [
    "# Reset index of both dataframes\n",
    "all_df.reset_index(drop=True, inplace=True)\n",
    "df_results.reset_index(drop=True, inplace=True)\n",
    "\n",
    "# Merge the encoded data and continuous data together\n",
    "encoded_features = pd.concat([all_df[x_continuous], df_results], join='inner', axis=1)"
   ],
   "id": "a331ddb9c6153cb3",
   "outputs": [],
   "execution_count": null
  },
  {
   "metadata": {},
   "cell_type": "code",
   "source": "encoded_features.shape",
   "id": "98d7cf83b83349c0",
   "outputs": [],
   "execution_count": null
  },
  {
   "metadata": {},
   "cell_type": "code",
   "source": "# sns.histplot(data=all_df, x=\"assessed_val\")",
   "id": "3e6f3be4d4510cd1",
   "outputs": [],
   "execution_count": null
  },
  {
   "metadata": {},
   "cell_type": "code",
   "source": "# sns.histplot(data=all_df, x=\"assessed_val\", log_scale=True)",
   "id": "d986d7b18d308750",
   "outputs": [],
   "execution_count": null
  },
  {
   "metadata": {},
   "cell_type": "code",
   "source": "# sns.pairplot(data=all_df, vars=['assessed_val', 'date_erected', 'im_sq_ft', 'school_dist', 'Neighborhood_Code'])",
   "id": "bc5de848c006de1b",
   "outputs": [],
   "execution_count": null
  },
  {
   "metadata": {},
   "cell_type": "code",
   "source": "# sns.pairplot(data=all_df, vars=['assessed_val', 'land_ar', 'RMB', 'RMF', 'RMH', 'STY'])",
   "id": "f76a0d77568f8554",
   "outputs": [],
   "execution_count": null
  },
  {
   "metadata": {},
   "cell_type": "code",
   "source": "print(f\"Encoded features{encoded_features.shape} | All Data{all_df.shape} | Results {df_results.shape} | y {y.shape} \")",
   "id": "f18853fd94ef1625",
   "outputs": [],
   "execution_count": null
  },
  {
   "metadata": {},
   "cell_type": "code",
   "source": "x_train, x_test, y_train, y_test = train_test_split(encoded_features, y, test_size=0.4, random_state=42)",
   "id": "8cd1b1deae616863",
   "outputs": [],
   "execution_count": null
  },
  {
   "metadata": {},
   "cell_type": "code",
   "source": "model = ExtraTreesRegressor(n_estimators=100, random_state=42)",
   "id": "63f3e82b1b9cef4b",
   "outputs": [],
   "execution_count": null
  },
  {
   "metadata": {},
   "cell_type": "code",
   "source": "model_fit = model.fit(x_train, y_train)",
   "id": "79c98ae8b1e0f54c",
   "outputs": [],
   "execution_count": null
  },
  {
   "metadata": {},
   "cell_type": "code",
   "source": "cross_val_score(model_fit, x_train, y_train, scoring='accuracy', cv=5, n_jobs=-1).mean()",
   "id": "4488ad5c2a098fe8",
   "outputs": [],
   "execution_count": null
  },
  {
   "metadata": {},
   "cell_type": "code",
   "source": [
    "y_pred = model.predict(x_test)\n",
    "print(f\"Mean Squared Error: {mean_squared_error(y_test, y_pred)}\")"
   ],
   "id": "83545ed262d67d8c",
   "outputs": [],
   "execution_count": null
  },
  {
   "metadata": {},
   "cell_type": "code",
   "source": [
    "param_grid = {\n",
    "    'n_estimators': [100, 250, 500],\n",
    "    'min_samples_leaf': [5, 15, 25],\n",
    "    'max_features': [10, 20, 30],\n",
    "    'criterion': ['gini', 'entropy']\n",
    "}"
   ],
   "id": "372806e1ddda94d5",
   "outputs": [],
   "execution_count": null
  },
  {
   "metadata": {},
   "cell_type": "code",
   "source": "etc2 = GridSearchCV(model_fit, param_grid, cv=3, n_jobs=-1)",
   "id": "f4a73c266f8f8b05",
   "outputs": [],
   "execution_count": null
  },
  {
   "metadata": {},
   "cell_type": "code",
   "source": "etc2.fit(x_train, y_train)",
   "id": "4bcb64c5198da257",
   "outputs": [],
   "execution_count": null
  },
  {
   "metadata": {},
   "cell_type": "code",
   "source": "etc2.best_params_",
   "id": "66ea07fcb01336fb",
   "outputs": [],
   "execution_count": null
  },
  {
   "metadata": {},
   "cell_type": "code",
   "source": "etc2.best_score_",
   "id": "c35939d6dc020571",
   "outputs": [],
   "execution_count": null
  }
 ],
 "metadata": {
  "kernelspec": {
   "display_name": "Python 3",
   "language": "python",
   "name": "python3"
  },
  "language_info": {
   "codemirror_mode": {
    "name": "ipython",
    "version": 2
   },
   "file_extension": ".py",
   "mimetype": "text/x-python",
   "name": "python",
   "nbconvert_exporter": "python",
   "pygments_lexer": "ipython2",
   "version": "2.7.6"
  }
 },
 "nbformat": 4,
 "nbformat_minor": 5
}
