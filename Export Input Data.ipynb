{
 "cells": [
  {
   "cell_type": "code",
   "execution_count": 1,
   "metadata": {},
   "outputs": [],
   "source": [
    "import pandas as pd\n",
    "import numpy as np\n",
    "from load_to_dataframe import load_housing_data_from_sqlite, load_mail_data_from_sqlite"
   ]
  },
  {
   "cell_type": "code",
   "execution_count": 2,
   "metadata": {},
   "outputs": [],
   "source": [
    "def haversine(lat1, lon1, lat2, lon2):\n",
    "    # Radius of Earth in miles\n",
    "    r = 3958.8\n",
    "    # Convert degrees to radians\n",
    "    phi1, phi2 = np.radians(lat1), np.radians(lat2)\n",
    "    d_phi = np.radians(lat2 - lat1)\n",
    "    d_lambda = np.radians(lon2 - lon1)\n",
    "    # Haversine formula\n",
    "    a = np.sin(d_phi / 2) ** 2 + np.cos(phi1) * np.cos(phi2) * np.sin(d_lambda / 2) ** 2\n",
    "    c = 2 * np.arctan2(np.sqrt(a), np.sqrt(1 - a))\n",
    "    return r * c"
   ]
  },
  {
   "cell_type": "code",
   "execution_count": 3,
   "metadata": {},
   "outputs": [],
   "source": [
    "# import housing data\n",
    "df_house = load_housing_data_from_sqlite()"
   ]
  },
  {
   "cell_type": "code",
   "execution_count": 4,
   "metadata": {},
   "outputs": [],
   "source": [
    "# Define the single point (latitude, longitude) to calculate the distance from\n",
    "single_point = (29.760100, -95.370100)  # Houston\n",
    "\n",
    "# Add a new column with distances\n",
    "df_house[\"distance_miles\"] = df_house.apply(\n",
    "    lambda row: haversine(\n",
    "        single_point[0], single_point[1], row[\"latitude\"], row[\"longitude\"]\n",
    "    ),\n",
    "    axis=1,\n",
    ")"
   ]
  },
  {
   "cell_type": "code",
   "execution_count": 5,
   "metadata": {},
   "outputs": [],
   "source": [
    "# Remove duplicates of housing data\n",
    "df_house = (\n",
    "    df_house.groupby(\"acct\")\n",
    "    .agg(\n",
    "        bld_num=(\"bld_num\", \"max\"),\n",
    "        date_erected=(\"date_erected\", \"min\"),\n",
    "        im_sq_ft=(\"im_sq_ft\", \"sum\"),\n",
    "        land_ar=(\"land_ar\", \"mean\"),\n",
    "        perimeter=(\"perimeter\", \"sum\"),\n",
    "        bedrooms=(\"bedrooms\", \"mean\"),\n",
    "        full_bath=(\"full_bath\", \"mean\"),\n",
    "        half_bath=(\"half_bath\", \"mean\"),\n",
    "        total_rooms=(\"total_rooms\", \"mean\"),\n",
    "        dscr_e=(\"dscr_e\", \"mean\"),\n",
    "        frame_detached_garage=(\"frame_detached_garage\", \"mean\"),\n",
    "        gunite_pool=(\"gunite_pool\", \"mean\"),\n",
    "        pool_heater=(\"pool_heater\", \"mean\"),\n",
    "        solar_panel=(\"solar_panel\", \"mean\"),\n",
    "        brick_garage=(\"brick_garage\", \"mean\"),\n",
    "        canopy_residential=(\"canopy_residential\", \"mean\"),\n",
    "        frame_abov=(\"frame_abov\", \"mean\"),\n",
    "        frame_shed=(\"frame_shed\", \"mean\"),\n",
    "        carport_residential=(\"carport_residential\", \"mean\"),\n",
    "        foundation_repaired=(\"foundation_repaired\", \"mean\"),\n",
    "        cracked_slab=(\"cracked_slab\", \"mean\"),\n",
    "        latitude=(\"latitude\", \"mean\"),\n",
    "        longitude=(\"longitude\", \"mean\"),\n",
    "        distance_miles=(\"distance_miles\", \"mean\"),\n",
    "        land_val=(\"land_val\", \"mean\"),\n",
    "        bld_val=(\"bld_val\", \"mean\"),\n",
    "        assessed_val=(\"assessed_val\", \"mean\"),\n",
    "    )\n",
    "    .reset_index()\n",
    ")"
   ]
  },
  {
   "cell_type": "code",
   "execution_count": 6,
   "metadata": {},
   "outputs": [],
   "source": [
    "# assessed per square foot\n",
    "df_house[\"assessed_per_sqft\"] = df_house[\"assessed_val\"] / df_house[\"im_sq_ft\"]"
   ]
  },
  {
   "cell_type": "code",
   "execution_count": 7,
   "metadata": {},
   "outputs": [
    {
     "name": "stdout",
     "output_type": "stream",
     "text": [
      "<class 'pandas.core.frame.DataFrame'>\n",
      "RangeIndex: 1095707 entries, 0 to 1095706\n",
      "Data columns (total 29 columns):\n",
      " #   Column                 Non-Null Count    Dtype  \n",
      "---  ------                 --------------    -----  \n",
      " 0   acct                   1095707 non-null  int64  \n",
      " 1   bld_num                1095707 non-null  int64  \n",
      " 2   date_erected           1095707 non-null  int64  \n",
      " 3   im_sq_ft               1095707 non-null  int64  \n",
      " 4   land_ar                1095707 non-null  float64\n",
      " 5   perimeter              1095707 non-null  int64  \n",
      " 6   bedrooms               1095707 non-null  float64\n",
      " 7   full_bath              1095707 non-null  float64\n",
      " 8   half_bath              1095707 non-null  float64\n",
      " 9   total_rooms            1095707 non-null  float64\n",
      " 10  dscr_e                 1095707 non-null  float64\n",
      " 11  frame_detached_garage  1095707 non-null  float64\n",
      " 12  gunite_pool            1095707 non-null  float64\n",
      " 13  pool_heater            1095707 non-null  float64\n",
      " 14  solar_panel            1095707 non-null  float64\n",
      " 15  brick_garage           1095707 non-null  float64\n",
      " 16  canopy_residential     1095707 non-null  float64\n",
      " 17  frame_abov             1095707 non-null  float64\n",
      " 18  frame_shed             1095707 non-null  float64\n",
      " 19  carport_residential    1095707 non-null  float64\n",
      " 20  foundation_repaired    1095707 non-null  float64\n",
      " 21  cracked_slab           1095707 non-null  float64\n",
      " 22  latitude               1095707 non-null  float64\n",
      " 23  longitude              1095707 non-null  float64\n",
      " 24  distance_miles         1095707 non-null  float64\n",
      " 25  land_val               1095707 non-null  float64\n",
      " 26  bld_val                1095707 non-null  float64\n",
      " 27  assessed_val           1095707 non-null  float64\n",
      " 28  assessed_per_sqft      1095707 non-null  float64\n",
      "dtypes: float64(24), int64(5)\n",
      "memory usage: 242.4 MB\n"
     ]
    }
   ],
   "source": [
    "df_house.info()"
   ]
  },
  {
   "cell_type": "code",
   "execution_count": 10,
   "metadata": {},
   "outputs": [
    {
     "data": {
      "image/png": "[encoded data removed]",
      "text/plain": [
       "<Figure size 640x480 with 1 Axes>"
      ]
     },
     "metadata": {},
     "output_type": "display_data"
    }
   ],
   "source": [
    "import seaborn as sns\n",
    "from matplotlib import pyplot as plt\n",
    "\n",
    "y = df_house['assessed_val']\n",
    "sns.histplot(y)\n",
    "plt.xlabel(\"Assessed Values\")\n",
    "plt.ylabel(\"Count\")\n",
    "plt.title(\"Figure 1: Assested Values (Entire Dataset)\")\n",
    "plt.show()"
   ]
  },
  {
   "cell_type": "code",
   "execution_count": null,
   "metadata": {},
   "outputs": [],
   "source": []
  },
  {
   "cell_type": "code",
   "execution_count": null,
   "metadata": {},
   "outputs": [],
   "source": [
    "# Remove outliers to get a more normal price estimate\n",
    "# IQR\n",
    "Q1 = df_house[\"assessed_val\"].quantile(0.25)\n",
    "Q3 = df_house[\"assessed_val\"].quantile(0.75)\n",
    "IQR = Q3 - Q1\n",
    "\n",
    "lower_iqr = Q1 - 1.5 * IQR\n",
    "upper_iqr = Q3 + 1.5 * IQR\n",
    "print(f\"Lower IQR: {lower_iqr} | Upper IQR: {upper_iqr}\")\n",
    "\n",
    "df_house = df_house[(df_house[\"assessed_val\"] <= upper_iqr)]"
   ]
  },
  {
   "cell_type": "code",
   "execution_count": null,
   "metadata": {},
   "outputs": [],
   "source": [
    "# load mailing data\n",
    "df_mail = load_mail_data_from_sqlite()"
   ]
  },
  {
   "cell_type": "code",
   "execution_count": null,
   "metadata": {},
   "outputs": [],
   "source": [
    "# merge data into a new dataframe\n",
    "df_merge = df_house.merge(df_mail, how=\"left\", left_on=\"acct\", right_on=\"acct\")\n",
    "\n",
    "# Drop data with missing values\n",
    "df_merge.dropna(inplace=True)"
   ]
  },
  {
   "cell_type": "code",
   "execution_count": null,
   "metadata": {},
   "outputs": [],
   "source": [
    "# Sample 10,000 rows\n",
    "df_sample = df_merge.sample(n=10000, random_state=42)"
   ]
  },
  {
   "cell_type": "code",
   "execution_count": null,
   "metadata": {},
   "outputs": [],
   "source": [
    "df_sample.describe()"
   ]
  },
  {
   "cell_type": "code",
   "execution_count": null,
   "metadata": {},
   "outputs": [],
   "source": [
    "# filter for accounts in merge data in housing data and export\n",
    "h_filter = df_house.acct.isin(df_sample.acct)\n",
    "df_house = df_house[h_filter]"
   ]
  },
  {
   "cell_type": "code",
   "execution_count": null,
   "metadata": {},
   "outputs": [],
   "source": [
    "# filter for accounts in merge data in mailing data and export\n",
    "m_filter = df_mail.acct.isin(df_sample.acct)\n",
    "df_mail = df_mail[m_filter]"
   ]
  },
  {
   "cell_type": "code",
   "execution_count": null,
   "metadata": {},
   "outputs": [],
   "source": [
    "# export dataframes\n",
    "output_path = \"C:/Users/Blake/Documents/GitHub/C964-Capstone/Data\"\n",
    "df_house.to_csv(f\"{output_path}/sample_housing_data.csv\", index=False)\n",
    "df_mail.to_csv(f\"{output_path}/mailing_data.csv\", index=False)"
   ]
  },
  {
   "cell_type": "code",
   "execution_count": null,
   "metadata": {},
   "outputs": [],
   "source": [
    "df_house.describe()"
   ]
  },
  {
   "cell_type": "code",
   "execution_count": null,
   "metadata": {},
   "outputs": [],
   "source": [
    "test_dict = {\n",
    "    \"date_erected\": [2024],\n",
    "    \"im_sq_ft\": [2000],\n",
    "    \"land_ar\": [5000],\n",
    "    \"perimeter\": [800],\n",
    "    # \"area*perimeter\",\n",
    "    \"bedrooms\": [3],\n",
    "    \"full_bath\": [2],\n",
    "    \"half_bath\": [1],\n",
    "    \"total_rooms\": [7],\n",
    "    \"latitude\": [-90],\n",
    "    \"longitude\": [90],\n",
    "    \"dscr_e\": [3],\n",
    "    \"frame_detached_garage\": [4000],\n",
    "    \"gunite_pool\": [0],\n",
    "    \"pool_heater\": [0],\n",
    "    \"brick_garage\": [0],\n",
    "    \"canopy_residential\": [0],\n",
    "    \"frame_abov\": [0],\n",
    "    \"frame_shed\": [0],\n",
    "    \"carport_residential\": [0],\n",
    "    \"foundation_repaired\": [0],\n",
    "    \"cracked_slab\": [0],\n",
    "    \"distance_miles\": [haversine(30, -95, 29.760100, -95.370100)],\n",
    "}"
   ]
  }
 ],
 "metadata": {
  "kernelspec": {
   "display_name": ".venv",
   "language": "python",
   "name": "python3"
  },
  "language_info": {
   "codemirror_mode": {
    "name": "ipython",
    "version": 3
   },
   "file_extension": ".py",
   "mimetype": "text/x-python",
   "name": "python",
   "nbconvert_exporter": "python",
   "pygments_lexer": "ipython3",
   "version": "3.13.1"
  }
 },
 "nbformat": 4,
 "nbformat_minor": 2
}
